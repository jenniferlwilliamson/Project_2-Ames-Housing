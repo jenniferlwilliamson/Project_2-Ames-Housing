{
 "cells": [
  {
   "cell_type": "markdown",
   "metadata": {},
   "source": [
    "# Notebook Intro:\n",
    "\n",
    "In this notebook, I combine my selected dummy columns from Notebook 3a, and combine this with continuous features that have an r2 above .2 wrt Sale Price and create a linear regression model.\n",
    "\n",
    "I first do a train/test split on the training data, then I fit the linear regression model to the train split of the data, verify the model is reasonable by doing a cross-val score as well as running is on the test split of the data.\n",
    "\n",
    "Finally, I modify the training data similar to the testing data (creating the dummy columns and selecting only the cotinuous features that I used in the training data), and I use the linear regression model that I fit on the train split of the training data on the test data and export this for **Prediction 2**."
   ]
  },
  {
   "cell_type": "code",
   "execution_count": 1,
   "metadata": {},
   "outputs": [],
   "source": [
    "import pandas as pd\n",
    "import numpy as np\n",
    "import matplotlib.pyplot as plt\n",
    "import seaborn as sns\n",
    "\n",
    "from sklearn.model_selection import train_test_split, cross_val_score\n",
    "from sklearn.linear_model import LinearRegression"
   ]
  },
  {
   "cell_type": "code",
   "execution_count": 2,
   "metadata": {},
   "outputs": [],
   "source": [
    "# import cleaned training data\n",
    "filepath = '../datasets/interim_files/train_clean.csv'\n",
    "\n",
    "df = pd.read_csv(filepath)"
   ]
  },
  {
   "cell_type": "code",
   "execution_count": 3,
   "metadata": {},
   "outputs": [],
   "source": [
    "# import dummy columns with r2 over.2\n",
    "filepath = '../datasets/interim_files/dummiesbest.csv'\n",
    "\n",
    "df_dummies = pd.read_csv(filepath)"
   ]
  },
  {
   "cell_type": "code",
   "execution_count": 4,
   "metadata": {},
   "outputs": [],
   "source": [
    "# continuous features - per the data dictionary\n",
    "continuous_features = ['Lot Frontage','Lot Area','Mas Vnr Area','BsmtFin SF 1','BsmtFin SF 2','Bsmt Unf SF','Total Bsmt SF','1st Flr SF','2nd Flr SF','Low Qual Fin SF','Gr Liv Area','Garage Area','Wood Deck SF','Open Porch SF','Enclosed Porch','3Ssn Porch','Screen Porch','Pool Area','Misc Val']\n",
    "\n",
    "# nominal features - per the data dictionary\n",
    "nominal_features = ['PID','MS SubClass','MS Zoning','Street','Alley','Land Contour','Lot Config','Neighborhood','Condition 1','Condition 2','Bldg Type','House Style','Roof Style','Roof Matl','Exterior 1st','Exterior 2nd','Mas Vnr Type','Foundation','Heating','Central Air','Garage Type','Misc Feature','Sale Type']\n",
    "\n",
    "# discrete features \n",
    "discrete_features = ['Year Built','Year Remod/Add','Bsmt Full Bath','Bsmt Half Bath','Full Bath','Half Bath','Bedroom AbvGr','Kitchen AbvGr','TotRms AbvGrd','Fireplaces','Garage Yr Blt','Garage Cars','Mo Sold','Yr Sold']\n",
    "\n",
    "# Ordinal Features\n",
    "ordinal_features = ['Lot Shape','Utilities','Land Slope','Overall Qual','Overall Cond','Exter Qual','Exter Cond','Bsmt Qual','Bsmt Cond','Bsmt Exposure','BsmtFin Type 1','BsmtFin Type 2','Heating QC','Electrical','Kitchen Qual','Functional','Fireplace Qu','Garage Finish','Garage Qual','Garage Cond','Paved Drive','Pool QC','Fence']"
   ]
  },
  {
   "cell_type": "markdown",
   "metadata": {},
   "source": [
    "# look at continuous variable"
   ]
  },
  {
   "cell_type": "code",
   "execution_count": 5,
   "metadata": {},
   "outputs": [
    {
     "data": {
      "text/html": [
       "<div>\n",
       "<style scoped>\n",
       "    .dataframe tbody tr th:only-of-type {\n",
       "        vertical-align: middle;\n",
       "    }\n",
       "\n",
       "    .dataframe tbody tr th {\n",
       "        vertical-align: top;\n",
       "    }\n",
       "\n",
       "    .dataframe thead th {\n",
       "        text-align: right;\n",
       "    }\n",
       "</style>\n",
       "<table border=\"1\" class=\"dataframe\">\n",
       "  <thead>\n",
       "    <tr style=\"text-align: right;\">\n",
       "      <th></th>\n",
       "      <th>Lot Frontage</th>\n",
       "      <th>Lot Area</th>\n",
       "      <th>Mas Vnr Area</th>\n",
       "      <th>BsmtFin SF 1</th>\n",
       "      <th>BsmtFin SF 2</th>\n",
       "      <th>Bsmt Unf SF</th>\n",
       "      <th>Total Bsmt SF</th>\n",
       "      <th>1st Flr SF</th>\n",
       "      <th>2nd Flr SF</th>\n",
       "      <th>Low Qual Fin SF</th>\n",
       "      <th>Gr Liv Area</th>\n",
       "      <th>Garage Area</th>\n",
       "      <th>Wood Deck SF</th>\n",
       "      <th>Open Porch SF</th>\n",
       "      <th>Enclosed Porch</th>\n",
       "      <th>3Ssn Porch</th>\n",
       "      <th>Screen Porch</th>\n",
       "      <th>Pool Area</th>\n",
       "      <th>Misc Val</th>\n",
       "    </tr>\n",
       "  </thead>\n",
       "  <tbody>\n",
       "    <tr>\n",
       "      <th>0</th>\n",
       "      <td>0.0</td>\n",
       "      <td>13517</td>\n",
       "      <td>289.0</td>\n",
       "      <td>533.0</td>\n",
       "      <td>0.0</td>\n",
       "      <td>192.0</td>\n",
       "      <td>725.0</td>\n",
       "      <td>725</td>\n",
       "      <td>754</td>\n",
       "      <td>0</td>\n",
       "      <td>1479</td>\n",
       "      <td>475.0</td>\n",
       "      <td>0</td>\n",
       "      <td>44</td>\n",
       "      <td>0</td>\n",
       "      <td>0</td>\n",
       "      <td>0</td>\n",
       "      <td>0</td>\n",
       "      <td>0</td>\n",
       "    </tr>\n",
       "    <tr>\n",
       "      <th>1</th>\n",
       "      <td>43.0</td>\n",
       "      <td>11492</td>\n",
       "      <td>132.0</td>\n",
       "      <td>637.0</td>\n",
       "      <td>0.0</td>\n",
       "      <td>276.0</td>\n",
       "      <td>913.0</td>\n",
       "      <td>913</td>\n",
       "      <td>1209</td>\n",
       "      <td>0</td>\n",
       "      <td>2122</td>\n",
       "      <td>559.0</td>\n",
       "      <td>0</td>\n",
       "      <td>74</td>\n",
       "      <td>0</td>\n",
       "      <td>0</td>\n",
       "      <td>0</td>\n",
       "      <td>0</td>\n",
       "      <td>0</td>\n",
       "    </tr>\n",
       "    <tr>\n",
       "      <th>2</th>\n",
       "      <td>68.0</td>\n",
       "      <td>7922</td>\n",
       "      <td>0.0</td>\n",
       "      <td>731.0</td>\n",
       "      <td>0.0</td>\n",
       "      <td>326.0</td>\n",
       "      <td>1057.0</td>\n",
       "      <td>1057</td>\n",
       "      <td>0</td>\n",
       "      <td>0</td>\n",
       "      <td>1057</td>\n",
       "      <td>246.0</td>\n",
       "      <td>0</td>\n",
       "      <td>52</td>\n",
       "      <td>0</td>\n",
       "      <td>0</td>\n",
       "      <td>0</td>\n",
       "      <td>0</td>\n",
       "      <td>0</td>\n",
       "    </tr>\n",
       "    <tr>\n",
       "      <th>3</th>\n",
       "      <td>73.0</td>\n",
       "      <td>9802</td>\n",
       "      <td>0.0</td>\n",
       "      <td>0.0</td>\n",
       "      <td>0.0</td>\n",
       "      <td>384.0</td>\n",
       "      <td>384.0</td>\n",
       "      <td>744</td>\n",
       "      <td>700</td>\n",
       "      <td>0</td>\n",
       "      <td>1444</td>\n",
       "      <td>400.0</td>\n",
       "      <td>100</td>\n",
       "      <td>0</td>\n",
       "      <td>0</td>\n",
       "      <td>0</td>\n",
       "      <td>0</td>\n",
       "      <td>0</td>\n",
       "      <td>0</td>\n",
       "    </tr>\n",
       "    <tr>\n",
       "      <th>4</th>\n",
       "      <td>82.0</td>\n",
       "      <td>14235</td>\n",
       "      <td>0.0</td>\n",
       "      <td>0.0</td>\n",
       "      <td>0.0</td>\n",
       "      <td>676.0</td>\n",
       "      <td>676.0</td>\n",
       "      <td>831</td>\n",
       "      <td>614</td>\n",
       "      <td>0</td>\n",
       "      <td>1445</td>\n",
       "      <td>484.0</td>\n",
       "      <td>0</td>\n",
       "      <td>59</td>\n",
       "      <td>0</td>\n",
       "      <td>0</td>\n",
       "      <td>0</td>\n",
       "      <td>0</td>\n",
       "      <td>0</td>\n",
       "    </tr>\n",
       "    <tr>\n",
       "      <th>...</th>\n",
       "      <td>...</td>\n",
       "      <td>...</td>\n",
       "      <td>...</td>\n",
       "      <td>...</td>\n",
       "      <td>...</td>\n",
       "      <td>...</td>\n",
       "      <td>...</td>\n",
       "      <td>...</td>\n",
       "      <td>...</td>\n",
       "      <td>...</td>\n",
       "      <td>...</td>\n",
       "      <td>...</td>\n",
       "      <td>...</td>\n",
       "      <td>...</td>\n",
       "      <td>...</td>\n",
       "      <td>...</td>\n",
       "      <td>...</td>\n",
       "      <td>...</td>\n",
       "      <td>...</td>\n",
       "    </tr>\n",
       "    <tr>\n",
       "      <th>2021</th>\n",
       "      <td>79.0</td>\n",
       "      <td>11449</td>\n",
       "      <td>0.0</td>\n",
       "      <td>1011.0</td>\n",
       "      <td>0.0</td>\n",
       "      <td>873.0</td>\n",
       "      <td>1884.0</td>\n",
       "      <td>1728</td>\n",
       "      <td>0</td>\n",
       "      <td>0</td>\n",
       "      <td>1728</td>\n",
       "      <td>520.0</td>\n",
       "      <td>0</td>\n",
       "      <td>276</td>\n",
       "      <td>0</td>\n",
       "      <td>0</td>\n",
       "      <td>0</td>\n",
       "      <td>0</td>\n",
       "      <td>0</td>\n",
       "    </tr>\n",
       "    <tr>\n",
       "      <th>2022</th>\n",
       "      <td>0.0</td>\n",
       "      <td>12342</td>\n",
       "      <td>0.0</td>\n",
       "      <td>262.0</td>\n",
       "      <td>0.0</td>\n",
       "      <td>599.0</td>\n",
       "      <td>861.0</td>\n",
       "      <td>861</td>\n",
       "      <td>0</td>\n",
       "      <td>0</td>\n",
       "      <td>861</td>\n",
       "      <td>539.0</td>\n",
       "      <td>158</td>\n",
       "      <td>0</td>\n",
       "      <td>0</td>\n",
       "      <td>0</td>\n",
       "      <td>0</td>\n",
       "      <td>0</td>\n",
       "      <td>0</td>\n",
       "    </tr>\n",
       "    <tr>\n",
       "      <th>2023</th>\n",
       "      <td>57.0</td>\n",
       "      <td>7558</td>\n",
       "      <td>0.0</td>\n",
       "      <td>0.0</td>\n",
       "      <td>0.0</td>\n",
       "      <td>896.0</td>\n",
       "      <td>896.0</td>\n",
       "      <td>1172</td>\n",
       "      <td>741</td>\n",
       "      <td>0</td>\n",
       "      <td>1913</td>\n",
       "      <td>342.0</td>\n",
       "      <td>0</td>\n",
       "      <td>0</td>\n",
       "      <td>0</td>\n",
       "      <td>0</td>\n",
       "      <td>0</td>\n",
       "      <td>0</td>\n",
       "      <td>0</td>\n",
       "    </tr>\n",
       "    <tr>\n",
       "      <th>2024</th>\n",
       "      <td>80.0</td>\n",
       "      <td>10400</td>\n",
       "      <td>0.0</td>\n",
       "      <td>155.0</td>\n",
       "      <td>750.0</td>\n",
       "      <td>295.0</td>\n",
       "      <td>1200.0</td>\n",
       "      <td>1200</td>\n",
       "      <td>0</td>\n",
       "      <td>0</td>\n",
       "      <td>1200</td>\n",
       "      <td>294.0</td>\n",
       "      <td>0</td>\n",
       "      <td>189</td>\n",
       "      <td>140</td>\n",
       "      <td>0</td>\n",
       "      <td>0</td>\n",
       "      <td>0</td>\n",
       "      <td>0</td>\n",
       "    </tr>\n",
       "    <tr>\n",
       "      <th>2025</th>\n",
       "      <td>60.0</td>\n",
       "      <td>7500</td>\n",
       "      <td>0.0</td>\n",
       "      <td>0.0</td>\n",
       "      <td>0.0</td>\n",
       "      <td>994.0</td>\n",
       "      <td>994.0</td>\n",
       "      <td>1028</td>\n",
       "      <td>776</td>\n",
       "      <td>0</td>\n",
       "      <td>1804</td>\n",
       "      <td>442.0</td>\n",
       "      <td>140</td>\n",
       "      <td>60</td>\n",
       "      <td>0</td>\n",
       "      <td>0</td>\n",
       "      <td>0</td>\n",
       "      <td>0</td>\n",
       "      <td>0</td>\n",
       "    </tr>\n",
       "  </tbody>\n",
       "</table>\n",
       "<p>2026 rows × 19 columns</p>\n",
       "</div>"
      ],
      "text/plain": [
       "      Lot Frontage  Lot Area  Mas Vnr Area  BsmtFin SF 1  BsmtFin SF 2  \\\n",
       "0              0.0     13517         289.0         533.0           0.0   \n",
       "1             43.0     11492         132.0         637.0           0.0   \n",
       "2             68.0      7922           0.0         731.0           0.0   \n",
       "3             73.0      9802           0.0           0.0           0.0   \n",
       "4             82.0     14235           0.0           0.0           0.0   \n",
       "...            ...       ...           ...           ...           ...   \n",
       "2021          79.0     11449           0.0        1011.0           0.0   \n",
       "2022           0.0     12342           0.0         262.0           0.0   \n",
       "2023          57.0      7558           0.0           0.0           0.0   \n",
       "2024          80.0     10400           0.0         155.0         750.0   \n",
       "2025          60.0      7500           0.0           0.0           0.0   \n",
       "\n",
       "      Bsmt Unf SF  Total Bsmt SF  1st Flr SF  2nd Flr SF  Low Qual Fin SF  \\\n",
       "0           192.0          725.0         725         754                0   \n",
       "1           276.0          913.0         913        1209                0   \n",
       "2           326.0         1057.0        1057           0                0   \n",
       "3           384.0          384.0         744         700                0   \n",
       "4           676.0          676.0         831         614                0   \n",
       "...           ...            ...         ...         ...              ...   \n",
       "2021        873.0         1884.0        1728           0                0   \n",
       "2022        599.0          861.0         861           0                0   \n",
       "2023        896.0          896.0        1172         741                0   \n",
       "2024        295.0         1200.0        1200           0                0   \n",
       "2025        994.0          994.0        1028         776                0   \n",
       "\n",
       "      Gr Liv Area  Garage Area  Wood Deck SF  Open Porch SF  Enclosed Porch  \\\n",
       "0            1479        475.0             0             44               0   \n",
       "1            2122        559.0             0             74               0   \n",
       "2            1057        246.0             0             52               0   \n",
       "3            1444        400.0           100              0               0   \n",
       "4            1445        484.0             0             59               0   \n",
       "...           ...          ...           ...            ...             ...   \n",
       "2021         1728        520.0             0            276               0   \n",
       "2022          861        539.0           158              0               0   \n",
       "2023         1913        342.0             0              0               0   \n",
       "2024         1200        294.0             0            189             140   \n",
       "2025         1804        442.0           140             60               0   \n",
       "\n",
       "      3Ssn Porch  Screen Porch  Pool Area  Misc Val  \n",
       "0              0             0          0         0  \n",
       "1              0             0          0         0  \n",
       "2              0             0          0         0  \n",
       "3              0             0          0         0  \n",
       "4              0             0          0         0  \n",
       "...          ...           ...        ...       ...  \n",
       "2021           0             0          0         0  \n",
       "2022           0             0          0         0  \n",
       "2023           0             0          0         0  \n",
       "2024           0             0          0         0  \n",
       "2025           0             0          0         0  \n",
       "\n",
       "[2026 rows x 19 columns]"
      ]
     },
     "execution_count": 5,
     "metadata": {},
     "output_type": "execute_result"
    }
   ],
   "source": [
    "df[continuous_features]"
   ]
  },
  {
   "cell_type": "code",
   "execution_count": 6,
   "metadata": {},
   "outputs": [
    {
     "data": {
      "text/plain": [
       "Lot Frontage       0.179545\n",
       "Lot Area           0.295845\n",
       "Mas Vnr Area       0.512699\n",
       "BsmtFin SF 1       0.424380\n",
       "BsmtFin SF 2       0.019387\n",
       "Bsmt Unf SF        0.191275\n",
       "Total Bsmt SF      0.631975\n",
       "1st Flr SF         0.623523\n",
       "2nd Flr SF         0.250946\n",
       "Low Qual Fin SF    0.041153\n",
       "Gr Liv Area        0.699026\n",
       "Garage Area        0.648661\n",
       "Wood Deck SF       0.328729\n",
       "Open Porch SF      0.325625\n",
       "Enclosed Porch     0.138048\n",
       "3Ssn Porch         0.049865\n",
       "Screen Porch       0.137802\n",
       "Pool Area          0.023749\n",
       "Misc Val           0.006787\n",
       "SalePrice          1.000000\n",
       "Name: SalePrice, dtype: float64"
      ]
     },
     "execution_count": 6,
     "metadata": {},
     "output_type": "execute_result"
    }
   ],
   "source": [
    "continuous_features_with_sale = pd.concat([df[continuous_features],df['SalePrice']], axis = 1)\n",
    "np.abs(continuous_features_with_sale.corr()['SalePrice'])"
   ]
  },
  {
   "cell_type": "code",
   "execution_count": 7,
   "metadata": {},
   "outputs": [
    {
     "data": {
      "text/plain": [
       "Lot Area         0.295845\n",
       "Mas Vnr Area     0.512699\n",
       "BsmtFin SF 1     0.424380\n",
       "Total Bsmt SF    0.631975\n",
       "1st Flr SF       0.623523\n",
       "2nd Flr SF       0.250946\n",
       "Gr Liv Area      0.699026\n",
       "Garage Area      0.648661\n",
       "Wood Deck SF     0.328729\n",
       "Open Porch SF    0.325625\n",
       "SalePrice        1.000000\n",
       "Name: SalePrice, dtype: float64"
      ]
     },
     "execution_count": 7,
     "metadata": {},
     "output_type": "execute_result"
    }
   ],
   "source": [
    "continuous_features_with_sale.corr()['SalePrice'][np.abs(continuous_features_with_sale.corr()['SalePrice']) >.2]"
   ]
  },
  {
   "cell_type": "code",
   "execution_count": 8,
   "metadata": {},
   "outputs": [
    {
     "data": {
      "text/plain": [
       "Index(['Lot Area', 'Mas Vnr Area', 'BsmtFin SF 1', 'Total Bsmt SF',\n",
       "       '1st Flr SF', '2nd Flr SF', 'Gr Liv Area', 'Garage Area',\n",
       "       'Wood Deck SF', 'Open Porch SF', 'SalePrice'],\n",
       "      dtype='object')"
      ]
     },
     "execution_count": 8,
     "metadata": {},
     "output_type": "execute_result"
    }
   ],
   "source": [
    "final_features_continuous = continuous_features_with_sale.corr()['SalePrice'][np.abs(continuous_features_with_sale.corr()['SalePrice']) >.2]\n",
    "final_features_continuous.index"
   ]
  },
  {
   "cell_type": "code",
   "execution_count": 9,
   "metadata": {},
   "outputs": [],
   "source": [
    "df_continuous = df[final_features_continuous.index].copy()\n",
    "df_continuous.drop(columns = 'SalePrice', inplace=True)"
   ]
  },
  {
   "cell_type": "markdown",
   "metadata": {},
   "source": [
    "# combine nominal and continuous features"
   ]
  },
  {
   "cell_type": "code",
   "execution_count": 10,
   "metadata": {},
   "outputs": [],
   "source": [
    "X = pd.concat([df_dummies,df_continuous], axis=1)\n",
    "y = df['SalePrice']"
   ]
  },
  {
   "cell_type": "code",
   "execution_count": 11,
   "metadata": {},
   "outputs": [],
   "source": [
    "X_train, X_test, y_train, y_test = train_test_split(X, y, random_state = 42)"
   ]
  },
  {
   "cell_type": "code",
   "execution_count": 12,
   "metadata": {},
   "outputs": [],
   "source": [
    "lr = LinearRegression()"
   ]
  },
  {
   "cell_type": "code",
   "execution_count": 13,
   "metadata": {},
   "outputs": [
    {
     "data": {
      "text/plain": [
       "0.7468310385066939"
      ]
     },
     "execution_count": 13,
     "metadata": {},
     "output_type": "execute_result"
    }
   ],
   "source": [
    "cross_val_score(lr, X_train, y_train).mean()"
   ]
  },
  {
   "cell_type": "code",
   "execution_count": 14,
   "metadata": {},
   "outputs": [
    {
     "data": {
      "text/plain": [
       "LinearRegression()"
      ]
     },
     "execution_count": 14,
     "metadata": {},
     "output_type": "execute_result"
    }
   ],
   "source": [
    "lr.fit(X_train, y_train)"
   ]
  },
  {
   "cell_type": "code",
   "execution_count": 15,
   "metadata": {},
   "outputs": [
    {
     "data": {
      "text/plain": [
       "(0.7913951844578868, 0.8511567811004915)"
      ]
     },
     "execution_count": 15,
     "metadata": {},
     "output_type": "execute_result"
    }
   ],
   "source": [
    "lr.score(X_train, y_train), lr.score(X_test, y_test)"
   ]
  },
  {
   "cell_type": "markdown",
   "metadata": {},
   "source": [
    "# apply model to test data"
   ]
  },
  {
   "cell_type": "code",
   "execution_count": 16,
   "metadata": {},
   "outputs": [
    {
     "data": {
      "text/html": [
       "<div>\n",
       "<style scoped>\n",
       "    .dataframe tbody tr th:only-of-type {\n",
       "        vertical-align: middle;\n",
       "    }\n",
       "\n",
       "    .dataframe tbody tr th {\n",
       "        vertical-align: top;\n",
       "    }\n",
       "\n",
       "    .dataframe thead th {\n",
       "        text-align: right;\n",
       "    }\n",
       "</style>\n",
       "<table border=\"1\" class=\"dataframe\">\n",
       "  <thead>\n",
       "    <tr style=\"text-align: right;\">\n",
       "      <th></th>\n",
       "      <th>Id</th>\n",
       "      <th>PID</th>\n",
       "      <th>MS SubClass</th>\n",
       "      <th>MS Zoning</th>\n",
       "      <th>Lot Frontage</th>\n",
       "      <th>Lot Area</th>\n",
       "      <th>Street</th>\n",
       "      <th>Alley</th>\n",
       "      <th>Lot Shape</th>\n",
       "      <th>Land Contour</th>\n",
       "      <th>...</th>\n",
       "      <th>3Ssn Porch</th>\n",
       "      <th>Screen Porch</th>\n",
       "      <th>Pool Area</th>\n",
       "      <th>Pool QC</th>\n",
       "      <th>Fence</th>\n",
       "      <th>Misc Feature</th>\n",
       "      <th>Misc Val</th>\n",
       "      <th>Mo Sold</th>\n",
       "      <th>Yr Sold</th>\n",
       "      <th>Sale Type</th>\n",
       "    </tr>\n",
       "  </thead>\n",
       "  <tbody>\n",
       "    <tr>\n",
       "      <th>0</th>\n",
       "      <td>2658</td>\n",
       "      <td>902301120</td>\n",
       "      <td>190</td>\n",
       "      <td>RM</td>\n",
       "      <td>69.0</td>\n",
       "      <td>9142</td>\n",
       "      <td>Pave</td>\n",
       "      <td>Grvl</td>\n",
       "      <td>Reg</td>\n",
       "      <td>Lvl</td>\n",
       "      <td>...</td>\n",
       "      <td>0</td>\n",
       "      <td>0</td>\n",
       "      <td>0</td>\n",
       "      <td>none</td>\n",
       "      <td>none</td>\n",
       "      <td>none</td>\n",
       "      <td>0</td>\n",
       "      <td>4</td>\n",
       "      <td>2006</td>\n",
       "      <td>WD</td>\n",
       "    </tr>\n",
       "    <tr>\n",
       "      <th>1</th>\n",
       "      <td>2718</td>\n",
       "      <td>905108090</td>\n",
       "      <td>90</td>\n",
       "      <td>RL</td>\n",
       "      <td>0.0</td>\n",
       "      <td>9662</td>\n",
       "      <td>Pave</td>\n",
       "      <td>none</td>\n",
       "      <td>IR1</td>\n",
       "      <td>Lvl</td>\n",
       "      <td>...</td>\n",
       "      <td>0</td>\n",
       "      <td>0</td>\n",
       "      <td>0</td>\n",
       "      <td>none</td>\n",
       "      <td>none</td>\n",
       "      <td>none</td>\n",
       "      <td>0</td>\n",
       "      <td>8</td>\n",
       "      <td>2006</td>\n",
       "      <td>WD</td>\n",
       "    </tr>\n",
       "    <tr>\n",
       "      <th>2</th>\n",
       "      <td>2414</td>\n",
       "      <td>528218130</td>\n",
       "      <td>60</td>\n",
       "      <td>RL</td>\n",
       "      <td>58.0</td>\n",
       "      <td>17104</td>\n",
       "      <td>Pave</td>\n",
       "      <td>none</td>\n",
       "      <td>IR1</td>\n",
       "      <td>Lvl</td>\n",
       "      <td>...</td>\n",
       "      <td>0</td>\n",
       "      <td>0</td>\n",
       "      <td>0</td>\n",
       "      <td>none</td>\n",
       "      <td>none</td>\n",
       "      <td>none</td>\n",
       "      <td>0</td>\n",
       "      <td>9</td>\n",
       "      <td>2006</td>\n",
       "      <td>New</td>\n",
       "    </tr>\n",
       "    <tr>\n",
       "      <th>3</th>\n",
       "      <td>1989</td>\n",
       "      <td>902207150</td>\n",
       "      <td>30</td>\n",
       "      <td>RM</td>\n",
       "      <td>60.0</td>\n",
       "      <td>8520</td>\n",
       "      <td>Pave</td>\n",
       "      <td>none</td>\n",
       "      <td>Reg</td>\n",
       "      <td>Lvl</td>\n",
       "      <td>...</td>\n",
       "      <td>0</td>\n",
       "      <td>0</td>\n",
       "      <td>0</td>\n",
       "      <td>none</td>\n",
       "      <td>none</td>\n",
       "      <td>none</td>\n",
       "      <td>0</td>\n",
       "      <td>7</td>\n",
       "      <td>2007</td>\n",
       "      <td>WD</td>\n",
       "    </tr>\n",
       "    <tr>\n",
       "      <th>4</th>\n",
       "      <td>625</td>\n",
       "      <td>535105100</td>\n",
       "      <td>20</td>\n",
       "      <td>RL</td>\n",
       "      <td>0.0</td>\n",
       "      <td>9500</td>\n",
       "      <td>Pave</td>\n",
       "      <td>none</td>\n",
       "      <td>IR1</td>\n",
       "      <td>Lvl</td>\n",
       "      <td>...</td>\n",
       "      <td>0</td>\n",
       "      <td>185</td>\n",
       "      <td>0</td>\n",
       "      <td>none</td>\n",
       "      <td>none</td>\n",
       "      <td>none</td>\n",
       "      <td>0</td>\n",
       "      <td>7</td>\n",
       "      <td>2009</td>\n",
       "      <td>WD</td>\n",
       "    </tr>\n",
       "  </tbody>\n",
       "</table>\n",
       "<p>5 rows × 80 columns</p>\n",
       "</div>"
      ],
      "text/plain": [
       "     Id        PID  MS SubClass MS Zoning  Lot Frontage  Lot Area Street  \\\n",
       "0  2658  902301120          190        RM          69.0      9142   Pave   \n",
       "1  2718  905108090           90        RL           0.0      9662   Pave   \n",
       "2  2414  528218130           60        RL          58.0     17104   Pave   \n",
       "3  1989  902207150           30        RM          60.0      8520   Pave   \n",
       "4   625  535105100           20        RL           0.0      9500   Pave   \n",
       "\n",
       "  Alley Lot Shape Land Contour  ... 3Ssn Porch Screen Porch Pool Area Pool QC  \\\n",
       "0  Grvl       Reg          Lvl  ...          0            0         0    none   \n",
       "1  none       IR1          Lvl  ...          0            0         0    none   \n",
       "2  none       IR1          Lvl  ...          0            0         0    none   \n",
       "3  none       Reg          Lvl  ...          0            0         0    none   \n",
       "4  none       IR1          Lvl  ...          0          185         0    none   \n",
       "\n",
       "  Fence Misc Feature Misc Val Mo Sold  Yr Sold  Sale Type  \n",
       "0  none         none        0       4     2006        WD   \n",
       "1  none         none        0       8     2006        WD   \n",
       "2  none         none        0       9     2006        New  \n",
       "3  none         none        0       7     2007        WD   \n",
       "4  none         none        0       7     2009        WD   \n",
       "\n",
       "[5 rows x 80 columns]"
      ]
     },
     "execution_count": 16,
     "metadata": {},
     "output_type": "execute_result"
    }
   ],
   "source": [
    "# import cleaned test info\n",
    "filepath = '../datasets/interim_files/test_clean.csv'\n",
    "\n",
    "testdata = pd.read_csv(filepath)\n",
    "testdata.head()"
   ]
  },
  {
   "cell_type": "code",
   "execution_count": 17,
   "metadata": {},
   "outputs": [
    {
     "data": {
      "text/plain": [
       "(878, 80)"
      ]
     },
     "execution_count": 17,
     "metadata": {},
     "output_type": "execute_result"
    }
   ],
   "source": [
    "testdata.shape"
   ]
  },
  {
   "cell_type": "code",
   "execution_count": 21,
   "metadata": {},
   "outputs": [],
   "source": [
    "# columns used in dummies (all the nominal columns that had relevant dummy values) - from notebook 3a\n",
    "combined_columns = ['MS SubClass', 'MS Zoning', 'Land Contour', 'Neighborhood',\n",
    "       'House Style', 'Roof Style', 'Exterior 1st', 'Exterior 2nd',\n",
    "       'Mas Vnr Type', 'Foundation', 'Central Air', 'Garage Type',\n",
    "       'Sale Type']"
   ]
  },
  {
   "cell_type": "code",
   "execution_count": 22,
   "metadata": {},
   "outputs": [],
   "source": [
    "# get dummy columns from categorical variables\n",
    "df_long_testdata = pd.get_dummies(testdata, columns = combined_columns)\n",
    "\n",
    "df_to_review_testdata = df_long_testdata[df_dummies.columns]"
   ]
  },
  {
   "cell_type": "code",
   "execution_count": 23,
   "metadata": {},
   "outputs": [],
   "source": [
    "# get continuous columns\n",
    "df_continuous_testdata = testdata[final_features_continuous.index[:-1]]"
   ]
  },
  {
   "cell_type": "code",
   "execution_count": 24,
   "metadata": {},
   "outputs": [
    {
     "data": {
      "text/plain": [
       "(878, 10)"
      ]
     },
     "execution_count": 24,
     "metadata": {},
     "output_type": "execute_result"
    }
   ],
   "source": [
    "df_continuous_testdata.shape"
   ]
  },
  {
   "cell_type": "code",
   "execution_count": 25,
   "metadata": {},
   "outputs": [
    {
     "data": {
      "text/plain": [
       "(878, 26)"
      ]
     },
     "execution_count": 25,
     "metadata": {},
     "output_type": "execute_result"
    }
   ],
   "source": [
    "df_to_review_testdata.shape"
   ]
  },
  {
   "cell_type": "code",
   "execution_count": 26,
   "metadata": {},
   "outputs": [],
   "source": [
    "X_testdata = pd.concat([df_to_review_testdata,df_continuous_testdata], axis=1)"
   ]
  },
  {
   "cell_type": "code",
   "execution_count": 27,
   "metadata": {},
   "outputs": [
    {
     "name": "stdout",
     "output_type": "stream",
     "text": [
      "<class 'pandas.core.frame.DataFrame'>\n",
      "RangeIndex: 878 entries, 0 to 877\n",
      "Data columns (total 36 columns):\n",
      " #   Column                Non-Null Count  Dtype  \n",
      "---  ------                --------------  -----  \n",
      " 0   MS SubClass_60        878 non-null    uint8  \n",
      " 1   MS SubClass_30        878 non-null    uint8  \n",
      " 2   MS Zoning_RM          878 non-null    uint8  \n",
      " 3   MS Zoning_RL          878 non-null    uint8  \n",
      " 4   Land Contour_HLS      878 non-null    uint8  \n",
      " 5   Neighborhood_NridgHt  878 non-null    uint8  \n",
      " 6   Neighborhood_NoRidge  878 non-null    uint8  \n",
      " 7   Neighborhood_StoneBr  878 non-null    uint8  \n",
      " 8   Neighborhood_OldTown  878 non-null    uint8  \n",
      " 9   House Style_2Story    878 non-null    uint8  \n",
      " 10  Roof Style_Hip        878 non-null    uint8  \n",
      " 11  Roof Style_Gable      878 non-null    uint8  \n",
      " 12  Exterior 1st_VinylSd  878 non-null    uint8  \n",
      " 13  Exterior 2nd_VinylSd  878 non-null    uint8  \n",
      " 14  Mas Vnr Type_None     878 non-null    uint8  \n",
      " 15  Mas Vnr Type_Stone    878 non-null    uint8  \n",
      " 16  Mas Vnr Type_BrkFace  878 non-null    uint8  \n",
      " 17  Foundation_PConc      878 non-null    uint8  \n",
      " 18  Foundation_CBlock     878 non-null    uint8  \n",
      " 19  Central Air_Y         878 non-null    uint8  \n",
      " 20  Garage Type_Detchd    878 non-null    uint8  \n",
      " 21  Garage Type_Attchd    878 non-null    uint8  \n",
      " 22  Garage Type_none      878 non-null    uint8  \n",
      " 23  Garage Type_BuiltIn   878 non-null    uint8  \n",
      " 24  Sale Type_New         878 non-null    uint8  \n",
      " 25  Sale Type_WD          878 non-null    uint8  \n",
      " 26  Lot Area              878 non-null    int64  \n",
      " 27  Mas Vnr Area          877 non-null    float64\n",
      " 28  BsmtFin SF 1          878 non-null    int64  \n",
      " 29  Total Bsmt SF         878 non-null    int64  \n",
      " 30  1st Flr SF            878 non-null    int64  \n",
      " 31  2nd Flr SF            878 non-null    int64  \n",
      " 32  Gr Liv Area           878 non-null    int64  \n",
      " 33  Garage Area           878 non-null    int64  \n",
      " 34  Wood Deck SF          878 non-null    int64  \n",
      " 35  Open Porch SF         878 non-null    int64  \n",
      "dtypes: float64(1), int64(9), uint8(26)\n",
      "memory usage: 91.0 KB\n"
     ]
    }
   ],
   "source": [
    "X_testdata.info()"
   ]
  },
  {
   "cell_type": "code",
   "execution_count": 28,
   "metadata": {},
   "outputs": [],
   "source": [
    "X_testdata.fillna(0, inplace=True)"
   ]
  },
  {
   "cell_type": "code",
   "execution_count": 29,
   "metadata": {},
   "outputs": [],
   "source": [
    "y_pred = lr.predict(X_testdata)"
   ]
  },
  {
   "cell_type": "code",
   "execution_count": 30,
   "metadata": {},
   "outputs": [
    {
     "data": {
      "text/html": [
       "<div>\n",
       "<style scoped>\n",
       "    .dataframe tbody tr th:only-of-type {\n",
       "        vertical-align: middle;\n",
       "    }\n",
       "\n",
       "    .dataframe tbody tr th {\n",
       "        vertical-align: top;\n",
       "    }\n",
       "\n",
       "    .dataframe thead th {\n",
       "        text-align: right;\n",
       "    }\n",
       "</style>\n",
       "<table border=\"1\" class=\"dataframe\">\n",
       "  <thead>\n",
       "    <tr style=\"text-align: right;\">\n",
       "      <th></th>\n",
       "      <th>SalePrice</th>\n",
       "    </tr>\n",
       "  </thead>\n",
       "  <tbody>\n",
       "    <tr>\n",
       "      <th>0</th>\n",
       "      <td>128715.393784</td>\n",
       "    </tr>\n",
       "    <tr>\n",
       "      <th>1</th>\n",
       "      <td>198432.037676</td>\n",
       "    </tr>\n",
       "    <tr>\n",
       "      <th>2</th>\n",
       "      <td>202574.713609</td>\n",
       "    </tr>\n",
       "    <tr>\n",
       "      <th>3</th>\n",
       "      <td>96085.845483</td>\n",
       "    </tr>\n",
       "    <tr>\n",
       "      <th>4</th>\n",
       "      <td>172913.776976</td>\n",
       "    </tr>\n",
       "  </tbody>\n",
       "</table>\n",
       "</div>"
      ],
      "text/plain": [
       "       SalePrice\n",
       "0  128715.393784\n",
       "1  198432.037676\n",
       "2  202574.713609\n",
       "3   96085.845483\n",
       "4  172913.776976"
      ]
     },
     "execution_count": 30,
     "metadata": {},
     "output_type": "execute_result"
    }
   ],
   "source": [
    "y_pred_df = pd.DataFrame(y_pred)\n",
    "y_pred_df = y_pred_df.rename(columns={0:'SalePrice'})\n",
    "y_pred_df.head()"
   ]
  },
  {
   "cell_type": "code",
   "execution_count": 31,
   "metadata": {},
   "outputs": [
    {
     "name": "stdout",
     "output_type": "stream",
     "text": [
      "<class 'pandas.core.frame.DataFrame'>\n",
      "RangeIndex: 878 entries, 0 to 877\n",
      "Data columns (total 2 columns):\n",
      " #   Column     Non-Null Count  Dtype  \n",
      "---  ------     --------------  -----  \n",
      " 0   Id         878 non-null    int64  \n",
      " 1   SalePrice  878 non-null    float64\n",
      "dtypes: float64(1), int64(1)\n",
      "memory usage: 13.8 KB\n"
     ]
    }
   ],
   "source": [
    "final_preds = pd.concat([testdata['Id'],y_pred_df], axis=1 )\n",
    "final_preds.info()"
   ]
  },
  {
   "cell_type": "code",
   "execution_count": 33,
   "metadata": {},
   "outputs": [],
   "source": [
    "#export predictions\n",
    "filepath = '../datasets/submissions/prediction2.csv'\n",
    "\n",
    "final_preds.to_csv(filepath, index=False)"
   ]
  },
  {
   "cell_type": "markdown",
   "metadata": {},
   "source": [
    "# Notebook Summary:\n",
    "\n",
    "In this notebook, I combine my selected dummy columns from Notebook 3a, and combine this with continuous features that have an r2 above .2 wrt Sale Price and create a linear regression model.\n",
    "\n",
    "I first do a train/test split on the training data, then I fit the linear regression model to the train split of the data, verify the model is reasonable by doing a cross-val score as well as running is on the test split of the data.\n",
    "\n",
    "Finally, I modify the training data similar to the testing data (creating the dummy columns and selecting only the cotinuous features that I used in the training data), and I use the linear regression model that I fit on the train split of the training data on the test data and export this for **Prediction 2**."
   ]
  }
 ],
 "metadata": {
  "kernelspec": {
   "display_name": "Python 3",
   "language": "python",
   "name": "python3"
  },
  "language_info": {
   "codemirror_mode": {
    "name": "ipython",
    "version": 3
   },
   "file_extension": ".py",
   "mimetype": "text/x-python",
   "name": "python",
   "nbconvert_exporter": "python",
   "pygments_lexer": "ipython3",
   "version": "3.8.3"
  }
 },
 "nbformat": 4,
 "nbformat_minor": 4
}
