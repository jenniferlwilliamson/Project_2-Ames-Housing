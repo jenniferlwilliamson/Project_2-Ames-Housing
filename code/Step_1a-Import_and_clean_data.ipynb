{
 "cells": [
  {
   "cell_type": "markdown",
   "metadata": {},
   "source": [
    "# Notebook Intro:\n",
    "\n",
    "In this notebook, I import the training data and perform basic clean (review nulls and datatypes). \n",
    "\n",
    "I then output the cleaned data to a csv so other notebooks can use the clean data to create a model.\n",
    "\n",
    "Note that the data dictionary is [here](http://jse.amstat.org/v19n3/decock/DataDocumentation.txt)."
   ]
  },
  {
   "cell_type": "markdown",
   "metadata": {},
   "source": [
    "## import packages and data"
   ]
  },
  {
   "cell_type": "code",
   "execution_count": 4,
   "metadata": {},
   "outputs": [],
   "source": [
    "# imports\n",
    "import numpy as np\n",
    "import pandas as pd"
   ]
  },
  {
   "cell_type": "code",
   "execution_count": 5,
   "metadata": {},
   "outputs": [
    {
     "data": {
      "text/html": [
       "<div>\n",
       "<style scoped>\n",
       "    .dataframe tbody tr th:only-of-type {\n",
       "        vertical-align: middle;\n",
       "    }\n",
       "\n",
       "    .dataframe tbody tr th {\n",
       "        vertical-align: top;\n",
       "    }\n",
       "\n",
       "    .dataframe thead th {\n",
       "        text-align: right;\n",
       "    }\n",
       "</style>\n",
       "<table border=\"1\" class=\"dataframe\">\n",
       "  <thead>\n",
       "    <tr style=\"text-align: right;\">\n",
       "      <th></th>\n",
       "      <th>Id</th>\n",
       "      <th>PID</th>\n",
       "      <th>MS SubClass</th>\n",
       "      <th>MS Zoning</th>\n",
       "      <th>Lot Frontage</th>\n",
       "      <th>Lot Area</th>\n",
       "      <th>Street</th>\n",
       "      <th>Alley</th>\n",
       "      <th>Lot Shape</th>\n",
       "      <th>Land Contour</th>\n",
       "      <th>...</th>\n",
       "      <th>Screen Porch</th>\n",
       "      <th>Pool Area</th>\n",
       "      <th>Pool QC</th>\n",
       "      <th>Fence</th>\n",
       "      <th>Misc Feature</th>\n",
       "      <th>Misc Val</th>\n",
       "      <th>Mo Sold</th>\n",
       "      <th>Yr Sold</th>\n",
       "      <th>Sale Type</th>\n",
       "      <th>SalePrice</th>\n",
       "    </tr>\n",
       "  </thead>\n",
       "  <tbody>\n",
       "    <tr>\n",
       "      <th>0</th>\n",
       "      <td>109</td>\n",
       "      <td>533352170</td>\n",
       "      <td>60</td>\n",
       "      <td>RL</td>\n",
       "      <td>NaN</td>\n",
       "      <td>13517</td>\n",
       "      <td>Pave</td>\n",
       "      <td>NaN</td>\n",
       "      <td>IR1</td>\n",
       "      <td>Lvl</td>\n",
       "      <td>...</td>\n",
       "      <td>0</td>\n",
       "      <td>0</td>\n",
       "      <td>NaN</td>\n",
       "      <td>NaN</td>\n",
       "      <td>NaN</td>\n",
       "      <td>0</td>\n",
       "      <td>3</td>\n",
       "      <td>2010</td>\n",
       "      <td>WD</td>\n",
       "      <td>130500</td>\n",
       "    </tr>\n",
       "    <tr>\n",
       "      <th>1</th>\n",
       "      <td>544</td>\n",
       "      <td>531379050</td>\n",
       "      <td>60</td>\n",
       "      <td>RL</td>\n",
       "      <td>43.0</td>\n",
       "      <td>11492</td>\n",
       "      <td>Pave</td>\n",
       "      <td>NaN</td>\n",
       "      <td>IR1</td>\n",
       "      <td>Lvl</td>\n",
       "      <td>...</td>\n",
       "      <td>0</td>\n",
       "      <td>0</td>\n",
       "      <td>NaN</td>\n",
       "      <td>NaN</td>\n",
       "      <td>NaN</td>\n",
       "      <td>0</td>\n",
       "      <td>4</td>\n",
       "      <td>2009</td>\n",
       "      <td>WD</td>\n",
       "      <td>220000</td>\n",
       "    </tr>\n",
       "    <tr>\n",
       "      <th>2</th>\n",
       "      <td>153</td>\n",
       "      <td>535304180</td>\n",
       "      <td>20</td>\n",
       "      <td>RL</td>\n",
       "      <td>68.0</td>\n",
       "      <td>7922</td>\n",
       "      <td>Pave</td>\n",
       "      <td>NaN</td>\n",
       "      <td>Reg</td>\n",
       "      <td>Lvl</td>\n",
       "      <td>...</td>\n",
       "      <td>0</td>\n",
       "      <td>0</td>\n",
       "      <td>NaN</td>\n",
       "      <td>NaN</td>\n",
       "      <td>NaN</td>\n",
       "      <td>0</td>\n",
       "      <td>1</td>\n",
       "      <td>2010</td>\n",
       "      <td>WD</td>\n",
       "      <td>109000</td>\n",
       "    </tr>\n",
       "    <tr>\n",
       "      <th>3</th>\n",
       "      <td>318</td>\n",
       "      <td>916386060</td>\n",
       "      <td>60</td>\n",
       "      <td>RL</td>\n",
       "      <td>73.0</td>\n",
       "      <td>9802</td>\n",
       "      <td>Pave</td>\n",
       "      <td>NaN</td>\n",
       "      <td>Reg</td>\n",
       "      <td>Lvl</td>\n",
       "      <td>...</td>\n",
       "      <td>0</td>\n",
       "      <td>0</td>\n",
       "      <td>NaN</td>\n",
       "      <td>NaN</td>\n",
       "      <td>NaN</td>\n",
       "      <td>0</td>\n",
       "      <td>4</td>\n",
       "      <td>2010</td>\n",
       "      <td>WD</td>\n",
       "      <td>174000</td>\n",
       "    </tr>\n",
       "    <tr>\n",
       "      <th>4</th>\n",
       "      <td>255</td>\n",
       "      <td>906425045</td>\n",
       "      <td>50</td>\n",
       "      <td>RL</td>\n",
       "      <td>82.0</td>\n",
       "      <td>14235</td>\n",
       "      <td>Pave</td>\n",
       "      <td>NaN</td>\n",
       "      <td>IR1</td>\n",
       "      <td>Lvl</td>\n",
       "      <td>...</td>\n",
       "      <td>0</td>\n",
       "      <td>0</td>\n",
       "      <td>NaN</td>\n",
       "      <td>NaN</td>\n",
       "      <td>NaN</td>\n",
       "      <td>0</td>\n",
       "      <td>3</td>\n",
       "      <td>2010</td>\n",
       "      <td>WD</td>\n",
       "      <td>138500</td>\n",
       "    </tr>\n",
       "  </tbody>\n",
       "</table>\n",
       "<p>5 rows × 81 columns</p>\n",
       "</div>"
      ],
      "text/plain": [
       "    Id        PID  MS SubClass MS Zoning  Lot Frontage  Lot Area Street Alley  \\\n",
       "0  109  533352170           60        RL           NaN     13517   Pave   NaN   \n",
       "1  544  531379050           60        RL          43.0     11492   Pave   NaN   \n",
       "2  153  535304180           20        RL          68.0      7922   Pave   NaN   \n",
       "3  318  916386060           60        RL          73.0      9802   Pave   NaN   \n",
       "4  255  906425045           50        RL          82.0     14235   Pave   NaN   \n",
       "\n",
       "  Lot Shape Land Contour  ... Screen Porch Pool Area Pool QC Fence  \\\n",
       "0       IR1          Lvl  ...            0         0     NaN   NaN   \n",
       "1       IR1          Lvl  ...            0         0     NaN   NaN   \n",
       "2       Reg          Lvl  ...            0         0     NaN   NaN   \n",
       "3       Reg          Lvl  ...            0         0     NaN   NaN   \n",
       "4       IR1          Lvl  ...            0         0     NaN   NaN   \n",
       "\n",
       "  Misc Feature Misc Val Mo Sold Yr Sold  Sale Type  SalePrice  \n",
       "0          NaN        0       3    2010        WD      130500  \n",
       "1          NaN        0       4    2009        WD      220000  \n",
       "2          NaN        0       1    2010        WD      109000  \n",
       "3          NaN        0       4    2010        WD      174000  \n",
       "4          NaN        0       3    2010        WD      138500  \n",
       "\n",
       "[5 rows x 81 columns]"
      ]
     },
     "execution_count": 5,
     "metadata": {},
     "output_type": "execute_result"
    }
   ],
   "source": [
    "# import training data\n",
    "filepath = '../datasets/Original/train.csv'\n",
    "\n",
    "train = pd.read_csv(filepath)\n",
    "train.head()"
   ]
  },
  {
   "cell_type": "markdown",
   "metadata": {},
   "source": [
    "## Check on general features of the data:\n",
    "\n",
    "* review datatypes \n",
    "* review if any data is missing"
   ]
  },
  {
   "cell_type": "code",
   "execution_count": 6,
   "metadata": {},
   "outputs": [
    {
     "name": "stdout",
     "output_type": "stream",
     "text": [
      "<class 'pandas.core.frame.DataFrame'>\n",
      "RangeIndex: 2051 entries, 0 to 2050\n",
      "Data columns (total 81 columns):\n",
      " #   Column           Non-Null Count  Dtype  \n",
      "---  ------           --------------  -----  \n",
      " 0   Id               2051 non-null   int64  \n",
      " 1   PID              2051 non-null   int64  \n",
      " 2   MS SubClass      2051 non-null   int64  \n",
      " 3   MS Zoning        2051 non-null   object \n",
      " 4   Lot Frontage     1721 non-null   float64\n",
      " 5   Lot Area         2051 non-null   int64  \n",
      " 6   Street           2051 non-null   object \n",
      " 7   Alley            140 non-null    object \n",
      " 8   Lot Shape        2051 non-null   object \n",
      " 9   Land Contour     2051 non-null   object \n",
      " 10  Utilities        2051 non-null   object \n",
      " 11  Lot Config       2051 non-null   object \n",
      " 12  Land Slope       2051 non-null   object \n",
      " 13  Neighborhood     2051 non-null   object \n",
      " 14  Condition 1      2051 non-null   object \n",
      " 15  Condition 2      2051 non-null   object \n",
      " 16  Bldg Type        2051 non-null   object \n",
      " 17  House Style      2051 non-null   object \n",
      " 18  Overall Qual     2051 non-null   int64  \n",
      " 19  Overall Cond     2051 non-null   int64  \n",
      " 20  Year Built       2051 non-null   int64  \n",
      " 21  Year Remod/Add   2051 non-null   int64  \n",
      " 22  Roof Style       2051 non-null   object \n",
      " 23  Roof Matl        2051 non-null   object \n",
      " 24  Exterior 1st     2051 non-null   object \n",
      " 25  Exterior 2nd     2051 non-null   object \n",
      " 26  Mas Vnr Type     2029 non-null   object \n",
      " 27  Mas Vnr Area     2029 non-null   float64\n",
      " 28  Exter Qual       2051 non-null   object \n",
      " 29  Exter Cond       2051 non-null   object \n",
      " 30  Foundation       2051 non-null   object \n",
      " 31  Bsmt Qual        1996 non-null   object \n",
      " 32  Bsmt Cond        1996 non-null   object \n",
      " 33  Bsmt Exposure    1993 non-null   object \n",
      " 34  BsmtFin Type 1   1996 non-null   object \n",
      " 35  BsmtFin SF 1     2050 non-null   float64\n",
      " 36  BsmtFin Type 2   1995 non-null   object \n",
      " 37  BsmtFin SF 2     2050 non-null   float64\n",
      " 38  Bsmt Unf SF      2050 non-null   float64\n",
      " 39  Total Bsmt SF    2050 non-null   float64\n",
      " 40  Heating          2051 non-null   object \n",
      " 41  Heating QC       2051 non-null   object \n",
      " 42  Central Air      2051 non-null   object \n",
      " 43  Electrical       2051 non-null   object \n",
      " 44  1st Flr SF       2051 non-null   int64  \n",
      " 45  2nd Flr SF       2051 non-null   int64  \n",
      " 46  Low Qual Fin SF  2051 non-null   int64  \n",
      " 47  Gr Liv Area      2051 non-null   int64  \n",
      " 48  Bsmt Full Bath   2049 non-null   float64\n",
      " 49  Bsmt Half Bath   2049 non-null   float64\n",
      " 50  Full Bath        2051 non-null   int64  \n",
      " 51  Half Bath        2051 non-null   int64  \n",
      " 52  Bedroom AbvGr    2051 non-null   int64  \n",
      " 53  Kitchen AbvGr    2051 non-null   int64  \n",
      " 54  Kitchen Qual     2051 non-null   object \n",
      " 55  TotRms AbvGrd    2051 non-null   int64  \n",
      " 56  Functional       2051 non-null   object \n",
      " 57  Fireplaces       2051 non-null   int64  \n",
      " 58  Fireplace Qu     1051 non-null   object \n",
      " 59  Garage Type      1938 non-null   object \n",
      " 60  Garage Yr Blt    1937 non-null   float64\n",
      " 61  Garage Finish    1937 non-null   object \n",
      " 62  Garage Cars      2050 non-null   float64\n",
      " 63  Garage Area      2050 non-null   float64\n",
      " 64  Garage Qual      1937 non-null   object \n",
      " 65  Garage Cond      1937 non-null   object \n",
      " 66  Paved Drive      2051 non-null   object \n",
      " 67  Wood Deck SF     2051 non-null   int64  \n",
      " 68  Open Porch SF    2051 non-null   int64  \n",
      " 69  Enclosed Porch   2051 non-null   int64  \n",
      " 70  3Ssn Porch       2051 non-null   int64  \n",
      " 71  Screen Porch     2051 non-null   int64  \n",
      " 72  Pool Area        2051 non-null   int64  \n",
      " 73  Pool QC          9 non-null      object \n",
      " 74  Fence            400 non-null    object \n",
      " 75  Misc Feature     65 non-null     object \n",
      " 76  Misc Val         2051 non-null   int64  \n",
      " 77  Mo Sold          2051 non-null   int64  \n",
      " 78  Yr Sold          2051 non-null   int64  \n",
      " 79  Sale Type        2051 non-null   object \n",
      " 80  SalePrice        2051 non-null   int64  \n",
      "dtypes: float64(11), int64(28), object(42)\n",
      "memory usage: 1.3+ MB\n"
     ]
    }
   ],
   "source": [
    "train.info()"
   ]
  },
  {
   "cell_type": "code",
   "execution_count": 7,
   "metadata": {},
   "outputs": [
    {
     "data": {
      "text/plain": [
       "0.0      1216\n",
       "120.0      11\n",
       "176.0      10\n",
       "200.0      10\n",
       "180.0       9\n",
       "         ... \n",
       "57.0        1\n",
       "572.0       1\n",
       "65.0        1\n",
       "567.0       1\n",
       "161.0       1\n",
       "Name: Mas Vnr Area, Length: 373, dtype: int64"
      ]
     },
     "execution_count": 7,
     "metadata": {},
     "output_type": "execute_result"
    }
   ],
   "source": [
    "train['Mas Vnr Area'].value_counts()"
   ]
  },
  {
   "cell_type": "code",
   "execution_count": 8,
   "metadata": {},
   "outputs": [
    {
     "data": {
      "text/plain": [
       "53       21.0\n",
       "1534     21.0\n",
       "787      21.0\n",
       "796      21.0\n",
       "1834     21.0\n",
       "        ...  \n",
       "1263    174.0\n",
       "441     195.0\n",
       "1875    200.0\n",
       "1335    313.0\n",
       "960     313.0\n",
       "Name: Lot Frontage, Length: 1721, dtype: float64"
      ]
     },
     "execution_count": 8,
     "metadata": {},
     "output_type": "execute_result"
    }
   ],
   "source": [
    "train[train['Lot Frontage'].notna()]['Lot Frontage'].sort_values()\n",
    "#based on results from this - the na could be a 0 sized lot rather than a missing value - it's not clear"
   ]
  },
  {
   "cell_type": "markdown",
   "metadata": {},
   "source": [
    "**Analyze the following columns with data that is a float datatype and some are NA**\n",
    "* if the data has a 0 this means the NA value is likely an error and wouldn't correspond to 0"
   ]
  },
  {
   "cell_type": "code",
   "execution_count": 9,
   "metadata": {},
   "outputs": [
    {
     "data": {
      "text/plain": [
       "0.0      657\n",
       "24.0      17\n",
       "16.0      10\n",
       "300.0      7\n",
       "384.0      7\n",
       "        ... \n",
       "848.0      1\n",
       "70.0       1\n",
       "688.0      1\n",
       "472.0      1\n",
       "661.0      1\n",
       "Name: BsmtFin SF 1, Length: 821, dtype: int64"
      ]
     },
     "execution_count": 9,
     "metadata": {},
     "output_type": "execute_result"
    }
   ],
   "source": [
    "train['BsmtFin SF 1'].value_counts()"
   ]
  },
  {
   "cell_type": "code",
   "execution_count": 10,
   "metadata": {},
   "outputs": [
    {
     "data": {
      "text/plain": [
       "0.0      1803\n",
       "294.0       5\n",
       "162.0       3\n",
       "539.0       3\n",
       "72.0        3\n",
       "         ... \n",
       "712.0       1\n",
       "529.0       1\n",
       "215.0       1\n",
       "252.0       1\n",
       "823.0       1\n",
       "Name: BsmtFin SF 2, Length: 205, dtype: int64"
      ]
     },
     "execution_count": 10,
     "metadata": {},
     "output_type": "execute_result"
    }
   ],
   "source": [
    "train['BsmtFin SF 2'].value_counts()"
   ]
  },
  {
   "cell_type": "code",
   "execution_count": 11,
   "metadata": {},
   "outputs": [
    {
     "data": {
      "text/plain": [
       "0.0       165\n",
       "384.0      14\n",
       "672.0      11\n",
       "728.0      10\n",
       "816.0       9\n",
       "         ... \n",
       "494.0       1\n",
       "1323.0      1\n",
       "1041.0      1\n",
       "314.0       1\n",
       "2062.0      1\n",
       "Name: Bsmt Unf SF, Length: 967, dtype: int64"
      ]
     },
     "execution_count": 11,
     "metadata": {},
     "output_type": "execute_result"
    }
   ],
   "source": [
    "train['Bsmt Unf SF'].value_counts()"
   ]
  },
  {
   "cell_type": "code",
   "execution_count": 12,
   "metadata": {},
   "outputs": [
    {
     "data": {
      "text/plain": [
       "0.0       54\n",
       "864.0     51\n",
       "672.0     20\n",
       "1040.0    20\n",
       "816.0     17\n",
       "          ..\n",
       "842.0      1\n",
       "752.0      1\n",
       "1232.0     1\n",
       "1480.0     1\n",
       "1125.0     1\n",
       "Name: Total Bsmt SF, Length: 892, dtype: int64"
      ]
     },
     "execution_count": 12,
     "metadata": {},
     "output_type": "execute_result"
    }
   ],
   "source": [
    "train['Total Bsmt SF'].value_counts()"
   ]
  },
  {
   "cell_type": "code",
   "execution_count": 13,
   "metadata": {},
   "outputs": [
    {
     "data": {
      "text/plain": [
       "0.0    1200\n",
       "1.0     824\n",
       "2.0      23\n",
       "3.0       2\n",
       "Name: Bsmt Full Bath, dtype: int64"
      ]
     },
     "execution_count": 13,
     "metadata": {},
     "output_type": "execute_result"
    }
   ],
   "source": [
    "train['Bsmt Full Bath'].value_counts()"
   ]
  },
  {
   "cell_type": "code",
   "execution_count": 14,
   "metadata": {},
   "outputs": [
    {
     "data": {
      "text/plain": [
       "0.0    1923\n",
       "1.0     122\n",
       "2.0       4\n",
       "Name: Bsmt Half Bath, dtype: int64"
      ]
     },
     "execution_count": 14,
     "metadata": {},
     "output_type": "execute_result"
    }
   ],
   "source": [
    "train['Bsmt Half Bath'].value_counts()"
   ]
  },
  {
   "cell_type": "code",
   "execution_count": 15,
   "metadata": {},
   "outputs": [
    {
     "data": {
      "text/plain": [
       "2.0    1136\n",
       "1.0     524\n",
       "3.0     263\n",
       "0.0     113\n",
       "4.0      13\n",
       "5.0       1\n",
       "Name: Garage Cars, dtype: int64"
      ]
     },
     "execution_count": 15,
     "metadata": {},
     "output_type": "execute_result"
    }
   ],
   "source": [
    "train['Garage Cars'].value_counts()"
   ]
  },
  {
   "cell_type": "code",
   "execution_count": 16,
   "metadata": {},
   "outputs": [
    {
     "data": {
      "text/plain": [
       "0.0       113\n",
       "440.0      70\n",
       "576.0      69\n",
       "484.0      52\n",
       "528.0      46\n",
       "         ... \n",
       "406.0       1\n",
       "309.0       1\n",
       "580.0       1\n",
       "1184.0      1\n",
       "557.0       1\n",
       "Name: Garage Area, Length: 514, dtype: int64"
      ]
     },
     "execution_count": 16,
     "metadata": {},
     "output_type": "execute_result"
    }
   ],
   "source": [
    "train['Garage Area'].value_counts()"
   ]
  },
  {
   "cell_type": "markdown",
   "metadata": {},
   "source": [
    "The following column, 'Garage Yr Blt' does not have zeroes, so I review to see if the NA's correspond to when the Garage type is NaN (which means that the property has no garage).  \n",
    "\n",
    "The following two lines of code and analysis show that 'Garage Yr Blt' being NA corresponds to no garage being built. So I'll convert the NA's in the 'Garage Yr Blt' column to another value.  Since this is a float column, I'll convert the Na's to 0's and make a note of it in the file."
   ]
  },
  {
   "cell_type": "code",
   "execution_count": 17,
   "metadata": {},
   "outputs": [
    {
     "data": {
      "text/plain": [
       "28     NaN\n",
       "53     NaN\n",
       "65     NaN\n",
       "79     NaN\n",
       "101    NaN\n",
       "        ..\n",
       "1991   NaN\n",
       "2010   NaN\n",
       "2027   NaN\n",
       "2039   NaN\n",
       "2042   NaN\n",
       "Name: Garage Yr Blt, Length: 113, dtype: float64"
      ]
     },
     "execution_count": 17,
     "metadata": {},
     "output_type": "execute_result"
    }
   ],
   "source": [
    "train[train['Garage Type'].isnull()]['Garage Yr Blt'].sort_values()"
   ]
  },
  {
   "cell_type": "code",
   "execution_count": 18,
   "metadata": {},
   "outputs": [
    {
     "data": {
      "text/plain": [
       "1793    1895.0\n",
       "410     1896.0\n",
       "217     1900.0\n",
       "520     1900.0\n",
       "12      1900.0\n",
       "         ...  \n",
       "589     2009.0\n",
       "1241    2010.0\n",
       "144     2010.0\n",
       "1699    2207.0\n",
       "1712       NaN\n",
       "Name: Garage Yr Blt, Length: 1938, dtype: float64"
      ]
     },
     "execution_count": 18,
     "metadata": {},
     "output_type": "execute_result"
    }
   ],
   "source": [
    "train[train['Garage Type'].notna()]['Garage Yr Blt'].sort_values()"
   ]
  },
  {
   "cell_type": "markdown",
   "metadata": {},
   "source": []
  },
  {
   "cell_type": "markdown",
   "metadata": {},
   "source": [
    "### Clean null values\n",
    "A few columns have almost no data, so look into what NA means:\n",
    "\n",
    "|Column Name|  total non-null entries| approximate % of data| what NA means| convert/remove NA\n",
    "| :-: | :-: | :-: | :- |:- |\n",
    "|'Pool QC'| 9 | 0.4%| per dictionary, NA means No Pool, so keep this column (NA has meaning)|convert to none\n",
    "|'Misc Feature'| 65 | 3.2%| per dictionary, NA means none, so can keep this column (NA has meaning)|convert to none\n",
    "|'Alley'| 140 | 6.8%| per dictionary, NA means no alley access NA has meaning, so keep)|convert to none\n",
    "|'Fence'| 400 | 9.5% |per dictionary, NA means No Fence, so keep this column (NA has meaning)|convert to none\n",
    "\n",
    "**all columns with high number of NA values have meaning to the NA, so keeping these columns.**\n",
    "\n",
    "\n",
    "\n",
    "A few columns have some entries missing, so look into what NA means for these:\n",
    "\n",
    "|index| Column Name| non-null entries | data type in column| analysis on what the NA means| convert/remove NA entries|\n",
    "| :-: | :-: | :-: | :-: | :-: |:-: |\n",
    "| 4  | Lot Frontage   |  1721 non-null |  float64  |   based on analysis above, na could be values of 0| because this is a data type float category, convert to 0 with note in file that 0 means it was previously missing data\n",
    "| 26 | Mas Vnr Type   |  2029 non-null |  object   |   per dictionary - none is entered if no masonry, so Na is an error| remove\n",
    "| 27 | Mas Vnr Area   |  2029 non-null |  float64  |   per analysis - 0 is entered as an area, so NA is an error | remove\n",
    "| 31 | Bsmt Qual      |  1996 non-null |  object   |   per dictionary - NA means no basement | convert to none\n",
    "| 32 | Bsmt Cond      |  1996 non-null |  object   |   per dictionary - NA means no basement | convert to none\n",
    "| 33 | Bsmt Exposure  |  1993 non-null |  object   |   per dictionary - NA means no basement | convert to none\n",
    "| 34 | BsmtFin Type 1 |  1996 non-null |  object   |   per dictionary - NA means no basement | convert to none\n",
    "| 35 | BsmtFin SF 1   |  2050 non-null |  float64  |   per analysis - 0 is entered as an area, so NA is an error | remove\n",
    "| 36 | BsmtFin Type 2 |  1995 non-null |  object   |   per dictionary - NA means no basement | convert to none\n",
    "| 37 | BsmtFin SF 2   |  2050 non-null |  float64  |   per analysis - 0 is entered as an area, so NA is an error | remove\n",
    "| 38 | Bsmt Unf SF    |  2050 non-null |  float64  |   per analysis - 0 is entered as an area, so NA is an error | remove\n",
    "| 39 | Total Bsmt SF  |  2050 non-null |  float64  |   per analysis - 0 is entered as an area, so NA is an error | remove\n",
    "| 48 | Bsmt Full Bath |  2049 non-null |  float64  |   per analysis - 0 is entered as an area, so NA is an error | remove\n",
    "| 49 | Bsmt Half Bath |  2049 non-null |  float64  |   per analysis - 0 is entered as an area, so NA is an error | remove\n",
    "| 58 | Fireplace Qu   |  1051 non-null |  object   |   per dictionary - NA means no fireplace | convert to none\n",
    "| 59 | Garage Type    |  1938 non-null |  object   |   per dictionary - NA means no garage   | convert to none\n",
    "| 60 | Garage Yr Blt  |  1937 non-null |  float64  |   based on analysis - NA means no garage|because this is a data type float category, convert to 0 with note in file that 0 means it was previously missing data\n",
    "| 61 | Garage Finish  |  1937 non-null |  object   |   per dictionary - NA means no garage   | convert to none\n",
    "| 62 | Garage Cars    |  2050 non-null |  float64  |   per analysis - 0 is entered as an area, so NA is an error | remove \n",
    "| 63 | Garage Area    |  2050 non-null |  float64  |   per analysis - 0 is entered as an area, so NA is an error | remove\n",
    "| 64 | Garage Qual    |  1937 non-null |  object   |   per dictionary - NA means no garage   | convert to none\n",
    "| 65 | Garage Cond    |  1937 non-null |  object   |   per dictionary - NA means no garage   | convert to none\n",
    " \n"
   ]
  },
  {
   "cell_type": "markdown",
   "metadata": {},
   "source": [
    "**Prior to removing null values that don't have meaning (which affects 30 to 40 rows total or < 2%), \n",
    "convert null values as appropriate based on review above**"
   ]
  },
  {
   "cell_type": "code",
   "execution_count": 19,
   "metadata": {},
   "outputs": [
    {
     "name": "stdout",
     "output_type": "stream",
     "text": [
      "<class 'pandas.core.frame.DataFrame'>\n",
      "RangeIndex: 2051 entries, 0 to 2050\n",
      "Data columns (total 81 columns):\n",
      " #   Column           Non-Null Count  Dtype  \n",
      "---  ------           --------------  -----  \n",
      " 0   Id               2051 non-null   int64  \n",
      " 1   PID              2051 non-null   int64  \n",
      " 2   MS SubClass      2051 non-null   int64  \n",
      " 3   MS Zoning        2051 non-null   object \n",
      " 4   Lot Frontage     2051 non-null   float64\n",
      " 5   Lot Area         2051 non-null   int64  \n",
      " 6   Street           2051 non-null   object \n",
      " 7   Alley            2051 non-null   object \n",
      " 8   Lot Shape        2051 non-null   object \n",
      " 9   Land Contour     2051 non-null   object \n",
      " 10  Utilities        2051 non-null   object \n",
      " 11  Lot Config       2051 non-null   object \n",
      " 12  Land Slope       2051 non-null   object \n",
      " 13  Neighborhood     2051 non-null   object \n",
      " 14  Condition 1      2051 non-null   object \n",
      " 15  Condition 2      2051 non-null   object \n",
      " 16  Bldg Type        2051 non-null   object \n",
      " 17  House Style      2051 non-null   object \n",
      " 18  Overall Qual     2051 non-null   int64  \n",
      " 19  Overall Cond     2051 non-null   int64  \n",
      " 20  Year Built       2051 non-null   int64  \n",
      " 21  Year Remod/Add   2051 non-null   int64  \n",
      " 22  Roof Style       2051 non-null   object \n",
      " 23  Roof Matl        2051 non-null   object \n",
      " 24  Exterior 1st     2051 non-null   object \n",
      " 25  Exterior 2nd     2051 non-null   object \n",
      " 26  Mas Vnr Type     2029 non-null   object \n",
      " 27  Mas Vnr Area     2029 non-null   float64\n",
      " 28  Exter Qual       2051 non-null   object \n",
      " 29  Exter Cond       2051 non-null   object \n",
      " 30  Foundation       2051 non-null   object \n",
      " 31  Bsmt Qual        2051 non-null   object \n",
      " 32  Bsmt Cond        2051 non-null   object \n",
      " 33  Bsmt Exposure    2051 non-null   object \n",
      " 34  BsmtFin Type 1   2051 non-null   object \n",
      " 35  BsmtFin SF 1     2050 non-null   float64\n",
      " 36  BsmtFin Type 2   2051 non-null   object \n",
      " 37  BsmtFin SF 2     2050 non-null   float64\n",
      " 38  Bsmt Unf SF      2050 non-null   float64\n",
      " 39  Total Bsmt SF    2050 non-null   float64\n",
      " 40  Heating          2051 non-null   object \n",
      " 41  Heating QC       2051 non-null   object \n",
      " 42  Central Air      2051 non-null   object \n",
      " 43  Electrical       2051 non-null   object \n",
      " 44  1st Flr SF       2051 non-null   int64  \n",
      " 45  2nd Flr SF       2051 non-null   int64  \n",
      " 46  Low Qual Fin SF  2051 non-null   int64  \n",
      " 47  Gr Liv Area      2051 non-null   int64  \n",
      " 48  Bsmt Full Bath   2049 non-null   float64\n",
      " 49  Bsmt Half Bath   2049 non-null   float64\n",
      " 50  Full Bath        2051 non-null   int64  \n",
      " 51  Half Bath        2051 non-null   int64  \n",
      " 52  Bedroom AbvGr    2051 non-null   int64  \n",
      " 53  Kitchen AbvGr    2051 non-null   int64  \n",
      " 54  Kitchen Qual     2051 non-null   object \n",
      " 55  TotRms AbvGrd    2051 non-null   int64  \n",
      " 56  Functional       2051 non-null   object \n",
      " 57  Fireplaces       2051 non-null   int64  \n",
      " 58  Fireplace Qu     2051 non-null   object \n",
      " 59  Garage Type      2051 non-null   object \n",
      " 60  Garage Yr Blt    2051 non-null   float64\n",
      " 61  Garage Finish    2051 non-null   object \n",
      " 62  Garage Cars      2050 non-null   float64\n",
      " 63  Garage Area      2050 non-null   float64\n",
      " 64  Garage Qual      2051 non-null   object \n",
      " 65  Garage Cond      2051 non-null   object \n",
      " 66  Paved Drive      2051 non-null   object \n",
      " 67  Wood Deck SF     2051 non-null   int64  \n",
      " 68  Open Porch SF    2051 non-null   int64  \n",
      " 69  Enclosed Porch   2051 non-null   int64  \n",
      " 70  3Ssn Porch       2051 non-null   int64  \n",
      " 71  Screen Porch     2051 non-null   int64  \n",
      " 72  Pool Area        2051 non-null   int64  \n",
      " 73  Pool QC          2051 non-null   object \n",
      " 74  Fence            2051 non-null   object \n",
      " 75  Misc Feature     2051 non-null   object \n",
      " 76  Misc Val         2051 non-null   int64  \n",
      " 77  Mo Sold          2051 non-null   int64  \n",
      " 78  Yr Sold          2051 non-null   int64  \n",
      " 79  Sale Type        2051 non-null   object \n",
      " 80  SalePrice        2051 non-null   int64  \n",
      "dtypes: float64(11), int64(28), object(42)\n",
      "memory usage: 1.3+ MB\n"
     ]
    }
   ],
   "source": [
    "# function to convert missing values to a selected value\n",
    "\n",
    "def na_to_replacement_value(dataframe,list_of_column_names,replaced_value):\n",
    "    for column in list_of_column_names:\n",
    "        dataframe[column] = dataframe[column].replace(np.nan,replaced_value)          \n",
    "    return dataframe\n",
    "\n",
    "# perform function on the following columns and replace with none\n",
    "# note that all columns have type object \n",
    "\n",
    "columns_na_to_none = ['Pool QC','Misc Feature','Alley','Fence','Bsmt Qual','Bsmt Cond','Bsmt Exposure','BsmtFin Type 1','BsmtFin Type 2','Fireplace Qu','Garage Type','Garage Finish','Garage Qual','Garage Cond']\n",
    "train = na_to_replacement_value(train,columns_na_to_none,'none')\n",
    "\n",
    "# convert the columns with missing values and float data types to 0\n",
    "\n",
    "columns_na_to_0 = ['Lot Frontage','Garage Yr Blt']\n",
    "train = na_to_replacement_value(train,columns_na_to_0,0)\n",
    "\n",
    "\n",
    "train.info()"
   ]
  },
  {
   "cell_type": "code",
   "execution_count": 20,
   "metadata": {},
   "outputs": [],
   "source": [
    "# after analysis remaining null values are likely error, so remove from dataframe\n",
    "\n",
    "train_clean = train.dropna()"
   ]
  },
  {
   "cell_type": "code",
   "execution_count": 21,
   "metadata": {},
   "outputs": [
    {
     "name": "stdout",
     "output_type": "stream",
     "text": [
      "<class 'pandas.core.frame.DataFrame'>\n",
      "Int64Index: 2026 entries, 0 to 2050\n",
      "Data columns (total 81 columns):\n",
      " #   Column           Non-Null Count  Dtype  \n",
      "---  ------           --------------  -----  \n",
      " 0   Id               2026 non-null   int64  \n",
      " 1   PID              2026 non-null   int64  \n",
      " 2   MS SubClass      2026 non-null   int64  \n",
      " 3   MS Zoning        2026 non-null   object \n",
      " 4   Lot Frontage     2026 non-null   float64\n",
      " 5   Lot Area         2026 non-null   int64  \n",
      " 6   Street           2026 non-null   object \n",
      " 7   Alley            2026 non-null   object \n",
      " 8   Lot Shape        2026 non-null   object \n",
      " 9   Land Contour     2026 non-null   object \n",
      " 10  Utilities        2026 non-null   object \n",
      " 11  Lot Config       2026 non-null   object \n",
      " 12  Land Slope       2026 non-null   object \n",
      " 13  Neighborhood     2026 non-null   object \n",
      " 14  Condition 1      2026 non-null   object \n",
      " 15  Condition 2      2026 non-null   object \n",
      " 16  Bldg Type        2026 non-null   object \n",
      " 17  House Style      2026 non-null   object \n",
      " 18  Overall Qual     2026 non-null   int64  \n",
      " 19  Overall Cond     2026 non-null   int64  \n",
      " 20  Year Built       2026 non-null   int64  \n",
      " 21  Year Remod/Add   2026 non-null   int64  \n",
      " 22  Roof Style       2026 non-null   object \n",
      " 23  Roof Matl        2026 non-null   object \n",
      " 24  Exterior 1st     2026 non-null   object \n",
      " 25  Exterior 2nd     2026 non-null   object \n",
      " 26  Mas Vnr Type     2026 non-null   object \n",
      " 27  Mas Vnr Area     2026 non-null   float64\n",
      " 28  Exter Qual       2026 non-null   object \n",
      " 29  Exter Cond       2026 non-null   object \n",
      " 30  Foundation       2026 non-null   object \n",
      " 31  Bsmt Qual        2026 non-null   object \n",
      " 32  Bsmt Cond        2026 non-null   object \n",
      " 33  Bsmt Exposure    2026 non-null   object \n",
      " 34  BsmtFin Type 1   2026 non-null   object \n",
      " 35  BsmtFin SF 1     2026 non-null   float64\n",
      " 36  BsmtFin Type 2   2026 non-null   object \n",
      " 37  BsmtFin SF 2     2026 non-null   float64\n",
      " 38  Bsmt Unf SF      2026 non-null   float64\n",
      " 39  Total Bsmt SF    2026 non-null   float64\n",
      " 40  Heating          2026 non-null   object \n",
      " 41  Heating QC       2026 non-null   object \n",
      " 42  Central Air      2026 non-null   object \n",
      " 43  Electrical       2026 non-null   object \n",
      " 44  1st Flr SF       2026 non-null   int64  \n",
      " 45  2nd Flr SF       2026 non-null   int64  \n",
      " 46  Low Qual Fin SF  2026 non-null   int64  \n",
      " 47  Gr Liv Area      2026 non-null   int64  \n",
      " 48  Bsmt Full Bath   2026 non-null   float64\n",
      " 49  Bsmt Half Bath   2026 non-null   float64\n",
      " 50  Full Bath        2026 non-null   int64  \n",
      " 51  Half Bath        2026 non-null   int64  \n",
      " 52  Bedroom AbvGr    2026 non-null   int64  \n",
      " 53  Kitchen AbvGr    2026 non-null   int64  \n",
      " 54  Kitchen Qual     2026 non-null   object \n",
      " 55  TotRms AbvGrd    2026 non-null   int64  \n",
      " 56  Functional       2026 non-null   object \n",
      " 57  Fireplaces       2026 non-null   int64  \n",
      " 58  Fireplace Qu     2026 non-null   object \n",
      " 59  Garage Type      2026 non-null   object \n",
      " 60  Garage Yr Blt    2026 non-null   float64\n",
      " 61  Garage Finish    2026 non-null   object \n",
      " 62  Garage Cars      2026 non-null   float64\n",
      " 63  Garage Area      2026 non-null   float64\n",
      " 64  Garage Qual      2026 non-null   object \n",
      " 65  Garage Cond      2026 non-null   object \n",
      " 66  Paved Drive      2026 non-null   object \n",
      " 67  Wood Deck SF     2026 non-null   int64  \n",
      " 68  Open Porch SF    2026 non-null   int64  \n",
      " 69  Enclosed Porch   2026 non-null   int64  \n",
      " 70  3Ssn Porch       2026 non-null   int64  \n",
      " 71  Screen Porch     2026 non-null   int64  \n",
      " 72  Pool Area        2026 non-null   int64  \n",
      " 73  Pool QC          2026 non-null   object \n",
      " 74  Fence            2026 non-null   object \n",
      " 75  Misc Feature     2026 non-null   object \n",
      " 76  Misc Val         2026 non-null   int64  \n",
      " 77  Mo Sold          2026 non-null   int64  \n",
      " 78  Yr Sold          2026 non-null   int64  \n",
      " 79  Sale Type        2026 non-null   object \n",
      " 80  SalePrice        2026 non-null   int64  \n",
      "dtypes: float64(11), int64(28), object(42)\n",
      "memory usage: 1.3+ MB\n"
     ]
    }
   ],
   "source": [
    "train_clean.info()"
   ]
  },
  {
   "cell_type": "code",
   "execution_count": 22,
   "metadata": {},
   "outputs": [
    {
     "name": "stdout",
     "output_type": "stream",
     "text": [
      "By eliminating the missing rows, the data frame went from 2051 to 2026 rows, or it lost 1.22% of the data\n"
     ]
    }
   ],
   "source": [
    "percent_data_lost = round((len(train)-len(train_clean))/len(train),4)*100\n",
    "print(f'By eliminating the missing rows, the data frame went from {len(train)} to {len(train_clean)} rows, or it lost {percent_data_lost}% of the data')"
   ]
  },
  {
   "cell_type": "markdown",
   "metadata": {},
   "source": [
    "This is a reasonable amount of data to lose. So this is fine."
   ]
  },
  {
   "cell_type": "code",
   "execution_count": 24,
   "metadata": {},
   "outputs": [],
   "source": [
    "# export clean data\n",
    "filepath = '../datasets/interim_files/train_clean.csv'\n",
    "\n",
    "train_clean.to_csv(filepath,index=False)\n"
   ]
  },
  {
   "cell_type": "markdown",
   "metadata": {},
   "source": [
    "# Notebook Summary of Work:\n",
    "\n",
    "In this notebook, I imported the training data and performed basic clean up (review nulls and datatypes). \n",
    "\n",
    "I then output the cleaned data to a csv so other notebooks can use the clean data to create a model."
   ]
  }
 ],
 "metadata": {
  "kernelspec": {
   "display_name": "Python 3",
   "language": "python",
   "name": "python3"
  },
  "language_info": {
   "codemirror_mode": {
    "name": "ipython",
    "version": 3
   },
   "file_extension": ".py",
   "mimetype": "text/x-python",
   "name": "python",
   "nbconvert_exporter": "python",
   "pygments_lexer": "ipython3",
   "version": "3.8.3"
  }
 },
 "nbformat": 4,
 "nbformat_minor": 4
}
