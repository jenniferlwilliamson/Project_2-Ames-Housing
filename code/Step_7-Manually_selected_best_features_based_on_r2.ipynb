{
 "cells": [
  {
   "cell_type": "markdown",
   "metadata": {},
   "source": [
    "# Notebook Intro:\n",
    "\n",
    "In this notebook, I use my cleaned training data, then look at all the continuous and dummy features that had r2 values over .2 (from notebooks 3a and 3b), import the updated ordinal features and select features that had r2 values over .2 (from notebook 4), and select the discrete features that had r2 values over .2 (from notebook 5).\n",
    "\n",
    "I address dummies in the training and test data similar to notebook 6.  \n",
    "\n",
    "I perform a train/test split on the training data, fit a scaler on the train split and then transform both the training and test splits.\n",
    "\n",
    "I then fit a linear regression, lasso, and ridge to the training split.  And compare the training and test scores for each one, as well as the number of features used. The lasso performs similarly to the other two, but reduces the number of features compared to the other models, so I select this one to continue with.  \n",
    "\n",
    "I then perform the scaling and fitting of the lasso model to the entire set of training data.  I then use this updated lasso model on the test data to create **prediction 4**.\n",
    "\n",
    "Finally, since the linear regression is easier to interpret and doesn't have many more features than the lasso model, I also perform the scaling and fitting of the linear regression model to the entire set of training data, and use this updated linear regression model on the test data to create **prediction 5**.\n",
    "\n",
    "I export the linear regression model of the training data for use in other notebooks."
   ]
  },
  {
   "cell_type": "code",
   "execution_count": 76,
   "metadata": {},
   "outputs": [],
   "source": [
    "import pandas as pd\n",
    "import numpy as np\n",
    "\n",
    "import matplotlib.pyplot as plt\n",
    "import seaborn as sns\n",
    "\n",
    "from sklearn.model_selection import train_test_split, cross_val_score, GridSearchCV\n",
    "from sklearn.preprocessing import StandardScaler\n",
    "from sklearn.linear_model import Ridge, RidgeCV, Lasso, LassoCV, LinearRegression"
   ]
  },
  {
   "cell_type": "code",
   "execution_count": 77,
   "metadata": {},
   "outputs": [],
   "source": [
    "# import cleaned training data\n",
    "filepath = '../datasets/interim_files/train_clean.csv'\n",
    "df = pd.read_csv(filepath)\n",
    "\n",
    "#import ordinal features\n",
    "filepath = '../datasets/interim_files/training_updated_ordinal_features.csv'\n",
    "df_ord = pd.read_csv(filepath)"
   ]
  },
  {
   "cell_type": "code",
   "execution_count": 78,
   "metadata": {},
   "outputs": [],
   "source": [
    "# import cleaned test info\n",
    "filepath = '../datasets/interim_files/test_clean.csv'\n",
    "\n",
    "testdata = pd.read_csv(filepath)\n",
    "testdata.head()\n",
    "\n",
    "# import ordinal features\n",
    "filepath = '../datasets/interim_files/testdata_updated_ordinal_features.csv'\n",
    "\n",
    "testdata_ord = pd.read_csv(filepath)"
   ]
  },
  {
   "cell_type": "code",
   "execution_count": 79,
   "metadata": {},
   "outputs": [],
   "source": [
    "# did manual search for a correlation coeff. greater than .2 in all features"
   ]
  },
  {
   "cell_type": "code",
   "execution_count": 80,
   "metadata": {},
   "outputs": [],
   "source": [
    "## Based on Step 3 - \n",
    "\n",
    "# nominal variables: (based on doing dummy variables for all nominal features)\n",
    "nom = ['MS SubClass_60', 'MS SubClass_30', 'MS Zoning_RM', 'MS Zoning_RL',\n",
    "       'Land Contour_HLS', 'Neighborhood_NridgHt', 'Neighborhood_NoRidge',\n",
    "       'Neighborhood_StoneBr', 'Neighborhood_OldTown', 'House Style_2Story',\n",
    "       'Roof Style_Hip', 'Roof Style_Gable', 'Exterior 1st_VinylSd',\n",
    "       'Exterior 2nd_VinylSd', 'Mas Vnr Type_None', 'Mas Vnr Type_Stone',\n",
    "       'Mas Vnr Type_BrkFace', 'Foundation_PConc', 'Foundation_CBlock',\n",
    "       'Central Air_Y', 'Garage Type_Detchd', 'Garage Type_Attchd',\n",
    "       'Garage Type_none', 'Garage Type_BuiltIn'] \n",
    "\n",
    "# continuous variables:\n",
    "cont = ['Lot Area', 'Mas Vnr Area', 'BsmtFin SF 1', 'Total Bsmt SF',\n",
    "       '1st Flr SF', '2nd Flr SF', 'Gr Liv Area', 'Garage Area',\n",
    "       'Wood Deck SF', 'Open Porch SF']"
   ]
  },
  {
   "cell_type": "code",
   "execution_count": 81,
   "metadata": {},
   "outputs": [],
   "source": [
    "# based on step 4\n",
    "# ordinal variables:\n",
    "ord = ['Lot Shape', 'Overall Qual', 'Exter Qual', 'Bsmt Qual', 'Bsmt Cond',\n",
    "       'Bsmt Exposure', 'BsmtFin Type 1', 'Heating QC', 'Electrical',\n",
    "       'Kitchen Qual', 'Fireplace Qu', 'Garage Finish', 'Garage Qual',\n",
    "       'Garage Cond', 'Paved Drive']"
   ]
  },
  {
   "cell_type": "code",
   "execution_count": 82,
   "metadata": {},
   "outputs": [],
   "source": [
    "# based on step 5\n",
    "# discrete variables:\n",
    "dis = ['Bsmt Full Bath', 'Full Bath', 'Half Bath', 'TotRms AbvGrd',\n",
    "       'Fireplaces', 'Garage Cars']"
   ]
  },
  {
   "cell_type": "markdown",
   "metadata": {},
   "source": [
    "## address dummies so training and test have the same"
   ]
  },
  {
   "cell_type": "code",
   "execution_count": 83,
   "metadata": {},
   "outputs": [],
   "source": [
    "nominal_features = ['MS SubClass','MS Zoning','Street','Alley','Land Contour','Lot Config','Neighborhood','Condition 1','Condition 2','Bldg Type','House Style','Roof Style','Roof Matl','Exterior 1st','Exterior 2nd','Mas Vnr Type','Foundation','Heating','Central Air','Garage Type','Misc Feature']\n",
    "\n",
    "df_nom = pd.get_dummies(df[nominal_features], columns = nominal_features)\n",
    "testdata_nom = pd.get_dummies(testdata[nominal_features], columns = nominal_features)"
   ]
  },
  {
   "cell_type": "code",
   "execution_count": 84,
   "metadata": {},
   "outputs": [
    {
     "data": {
      "text/html": [
       "<div>\n",
       "<style scoped>\n",
       "    .dataframe tbody tr th:only-of-type {\n",
       "        vertical-align: middle;\n",
       "    }\n",
       "\n",
       "    .dataframe tbody tr th {\n",
       "        vertical-align: top;\n",
       "    }\n",
       "\n",
       "    .dataframe thead th {\n",
       "        text-align: right;\n",
       "    }\n",
       "</style>\n",
       "<table border=\"1\" class=\"dataframe\">\n",
       "  <thead>\n",
       "    <tr style=\"text-align: right;\">\n",
       "      <th></th>\n",
       "      <th>MS SubClass_20</th>\n",
       "      <th>MS SubClass_30</th>\n",
       "      <th>MS SubClass_40</th>\n",
       "      <th>MS SubClass_45</th>\n",
       "      <th>MS SubClass_50</th>\n",
       "      <th>MS SubClass_60</th>\n",
       "      <th>MS SubClass_70</th>\n",
       "      <th>MS SubClass_75</th>\n",
       "      <th>MS SubClass_80</th>\n",
       "      <th>MS SubClass_85</th>\n",
       "      <th>...</th>\n",
       "      <th>Misc Feature_Shed</th>\n",
       "      <th>Misc Feature_TenC</th>\n",
       "      <th>Misc Feature_none</th>\n",
       "      <th>Roof Matl_Metal</th>\n",
       "      <th>Roof Matl_Roll</th>\n",
       "      <th>Exterior 1st_PreCast</th>\n",
       "      <th>Exterior 2nd_Other</th>\n",
       "      <th>Exterior 2nd_PreCast</th>\n",
       "      <th>Mas Vnr Type_CBlock</th>\n",
       "      <th>Heating_Floor</th>\n",
       "    </tr>\n",
       "  </thead>\n",
       "  <tbody>\n",
       "    <tr>\n",
       "      <th>0</th>\n",
       "      <td>0</td>\n",
       "      <td>0</td>\n",
       "      <td>0</td>\n",
       "      <td>0</td>\n",
       "      <td>0</td>\n",
       "      <td>1</td>\n",
       "      <td>0</td>\n",
       "      <td>0</td>\n",
       "      <td>0</td>\n",
       "      <td>0</td>\n",
       "      <td>...</td>\n",
       "      <td>0</td>\n",
       "      <td>0.0</td>\n",
       "      <td>1</td>\n",
       "      <td>NaN</td>\n",
       "      <td>NaN</td>\n",
       "      <td>NaN</td>\n",
       "      <td>NaN</td>\n",
       "      <td>NaN</td>\n",
       "      <td>NaN</td>\n",
       "      <td>NaN</td>\n",
       "    </tr>\n",
       "    <tr>\n",
       "      <th>1</th>\n",
       "      <td>0</td>\n",
       "      <td>0</td>\n",
       "      <td>0</td>\n",
       "      <td>0</td>\n",
       "      <td>0</td>\n",
       "      <td>1</td>\n",
       "      <td>0</td>\n",
       "      <td>0</td>\n",
       "      <td>0</td>\n",
       "      <td>0</td>\n",
       "      <td>...</td>\n",
       "      <td>0</td>\n",
       "      <td>0.0</td>\n",
       "      <td>1</td>\n",
       "      <td>NaN</td>\n",
       "      <td>NaN</td>\n",
       "      <td>NaN</td>\n",
       "      <td>NaN</td>\n",
       "      <td>NaN</td>\n",
       "      <td>NaN</td>\n",
       "      <td>NaN</td>\n",
       "    </tr>\n",
       "    <tr>\n",
       "      <th>2</th>\n",
       "      <td>1</td>\n",
       "      <td>0</td>\n",
       "      <td>0</td>\n",
       "      <td>0</td>\n",
       "      <td>0</td>\n",
       "      <td>0</td>\n",
       "      <td>0</td>\n",
       "      <td>0</td>\n",
       "      <td>0</td>\n",
       "      <td>0</td>\n",
       "      <td>...</td>\n",
       "      <td>0</td>\n",
       "      <td>0.0</td>\n",
       "      <td>1</td>\n",
       "      <td>NaN</td>\n",
       "      <td>NaN</td>\n",
       "      <td>NaN</td>\n",
       "      <td>NaN</td>\n",
       "      <td>NaN</td>\n",
       "      <td>NaN</td>\n",
       "      <td>NaN</td>\n",
       "    </tr>\n",
       "    <tr>\n",
       "      <th>3</th>\n",
       "      <td>0</td>\n",
       "      <td>0</td>\n",
       "      <td>0</td>\n",
       "      <td>0</td>\n",
       "      <td>0</td>\n",
       "      <td>1</td>\n",
       "      <td>0</td>\n",
       "      <td>0</td>\n",
       "      <td>0</td>\n",
       "      <td>0</td>\n",
       "      <td>...</td>\n",
       "      <td>0</td>\n",
       "      <td>0.0</td>\n",
       "      <td>1</td>\n",
       "      <td>NaN</td>\n",
       "      <td>NaN</td>\n",
       "      <td>NaN</td>\n",
       "      <td>NaN</td>\n",
       "      <td>NaN</td>\n",
       "      <td>NaN</td>\n",
       "      <td>NaN</td>\n",
       "    </tr>\n",
       "    <tr>\n",
       "      <th>4</th>\n",
       "      <td>0</td>\n",
       "      <td>0</td>\n",
       "      <td>0</td>\n",
       "      <td>0</td>\n",
       "      <td>1</td>\n",
       "      <td>0</td>\n",
       "      <td>0</td>\n",
       "      <td>0</td>\n",
       "      <td>0</td>\n",
       "      <td>0</td>\n",
       "      <td>...</td>\n",
       "      <td>0</td>\n",
       "      <td>0.0</td>\n",
       "      <td>1</td>\n",
       "      <td>NaN</td>\n",
       "      <td>NaN</td>\n",
       "      <td>NaN</td>\n",
       "      <td>NaN</td>\n",
       "      <td>NaN</td>\n",
       "      <td>NaN</td>\n",
       "      <td>NaN</td>\n",
       "    </tr>\n",
       "  </tbody>\n",
       "</table>\n",
       "<p>5 rows × 174 columns</p>\n",
       "</div>"
      ],
      "text/plain": [
       "   MS SubClass_20  MS SubClass_30  MS SubClass_40  MS SubClass_45  \\\n",
       "0               0               0               0               0   \n",
       "1               0               0               0               0   \n",
       "2               1               0               0               0   \n",
       "3               0               0               0               0   \n",
       "4               0               0               0               0   \n",
       "\n",
       "   MS SubClass_50  MS SubClass_60  MS SubClass_70  MS SubClass_75  \\\n",
       "0               0               1               0               0   \n",
       "1               0               1               0               0   \n",
       "2               0               0               0               0   \n",
       "3               0               1               0               0   \n",
       "4               1               0               0               0   \n",
       "\n",
       "   MS SubClass_80  MS SubClass_85  ...  Misc Feature_Shed  Misc Feature_TenC  \\\n",
       "0               0               0  ...                  0                0.0   \n",
       "1               0               0  ...                  0                0.0   \n",
       "2               0               0  ...                  0                0.0   \n",
       "3               0               0  ...                  0                0.0   \n",
       "4               0               0  ...                  0                0.0   \n",
       "\n",
       "   Misc Feature_none  Roof Matl_Metal  Roof Matl_Roll  Exterior 1st_PreCast  \\\n",
       "0                  1              NaN             NaN                   NaN   \n",
       "1                  1              NaN             NaN                   NaN   \n",
       "2                  1              NaN             NaN                   NaN   \n",
       "3                  1              NaN             NaN                   NaN   \n",
       "4                  1              NaN             NaN                   NaN   \n",
       "\n",
       "   Exterior 2nd_Other  Exterior 2nd_PreCast  Mas Vnr Type_CBlock  \\\n",
       "0                 NaN                   NaN                  NaN   \n",
       "1                 NaN                   NaN                  NaN   \n",
       "2                 NaN                   NaN                  NaN   \n",
       "3                 NaN                   NaN                  NaN   \n",
       "4                 NaN                   NaN                  NaN   \n",
       "\n",
       "   Heating_Floor  \n",
       "0            NaN  \n",
       "1            NaN  \n",
       "2            NaN  \n",
       "3            NaN  \n",
       "4            NaN  \n",
       "\n",
       "[5 rows x 174 columns]"
      ]
     },
     "execution_count": 84,
     "metadata": {},
     "output_type": "execute_result"
    }
   ],
   "source": [
    "overall_nom = pd.concat([df_nom,testdata_nom], join = 'outer', axis = 0)\n",
    "overall_nom.head()"
   ]
  },
  {
   "cell_type": "code",
   "execution_count": 85,
   "metadata": {},
   "outputs": [],
   "source": [
    "#separate the training and test data\n",
    "\n",
    "df_nom_updated = overall_nom[0:2026].fillna(0)\n",
    "testdata_nom_updated = overall_nom[2026:].fillna(0)"
   ]
  },
  {
   "cell_type": "code",
   "execution_count": 86,
   "metadata": {},
   "outputs": [],
   "source": [
    "# pull out nominal rows\n",
    "df_nom_updated2 = df_nom_updated[nom].copy()\n",
    "testdata_nom_updated2 = testdata_nom_updated[nom].copy()"
   ]
  },
  {
   "cell_type": "markdown",
   "metadata": {},
   "source": [
    "# Perform prework to modeling"
   ]
  },
  {
   "cell_type": "code",
   "execution_count": 87,
   "metadata": {},
   "outputs": [],
   "source": [
    "# Create dataframes\n",
    "\n",
    "X = pd.concat((df[cont], df[dis], df_ord[ord], df_nom_updated2), axis = 1)\n",
    "y = df['SalePrice']"
   ]
  },
  {
   "cell_type": "code",
   "execution_count": 88,
   "metadata": {},
   "outputs": [
    {
     "data": {
      "text/plain": [
       "(2026, 55)"
      ]
     },
     "execution_count": 88,
     "metadata": {},
     "output_type": "execute_result"
    }
   ],
   "source": [
    "X.shape"
   ]
  },
  {
   "cell_type": "code",
   "execution_count": 89,
   "metadata": {},
   "outputs": [
    {
     "data": {
      "text/plain": [
       "(2026,)"
      ]
     },
     "execution_count": 89,
     "metadata": {},
     "output_type": "execute_result"
    }
   ],
   "source": [
    "y.shape"
   ]
  },
  {
   "cell_type": "code",
   "execution_count": 90,
   "metadata": {},
   "outputs": [],
   "source": [
    "# train test split\n",
    "X_train, X_test, y_train, y_test = train_test_split(X,y, random_state=42)\n",
    "\n",
    "ss = StandardScaler()\n",
    "ss.fit(X_train)\n",
    "\n",
    "X_train = ss.transform(X_train)\n",
    "X_test = ss.transform(X_test)"
   ]
  },
  {
   "cell_type": "markdown",
   "metadata": {},
   "source": [
    "# linear regression"
   ]
  },
  {
   "cell_type": "code",
   "execution_count": 91,
   "metadata": {},
   "outputs": [
    {
     "data": {
      "text/plain": [
       "0.8142935643056127"
      ]
     },
     "execution_count": 91,
     "metadata": {},
     "output_type": "execute_result"
    }
   ],
   "source": [
    "lr = LinearRegression()\n",
    "\n",
    "cross_val_score(lr,X_train, y_train).mean()"
   ]
  },
  {
   "cell_type": "code",
   "execution_count": 92,
   "metadata": {},
   "outputs": [
    {
     "data": {
      "text/plain": [
       "LinearRegression()"
      ]
     },
     "execution_count": 92,
     "metadata": {},
     "output_type": "execute_result"
    }
   ],
   "source": [
    "lr.fit(X_train, y_train)"
   ]
  },
  {
   "cell_type": "code",
   "execution_count": 93,
   "metadata": {},
   "outputs": [
    {
     "data": {
      "text/plain": [
       "(0.8498367961363192, 0.8920139068576458)"
      ]
     },
     "execution_count": 93,
     "metadata": {},
     "output_type": "execute_result"
    }
   ],
   "source": [
    "lr.score(X_train, y_train), lr.score(X_test, y_test)"
   ]
  },
  {
   "cell_type": "markdown",
   "metadata": {},
   "source": [
    "# lasso"
   ]
  },
  {
   "cell_type": "code",
   "execution_count": 94,
   "metadata": {},
   "outputs": [
    {
     "name": "stderr",
     "output_type": "stream",
     "text": [
      "/Users/jenniferwilliamson/opt/anaconda3/lib/python3.8/site-packages/sklearn/linear_model/_coordinate_descent.py:529: ConvergenceWarning: Objective did not converge. You might want to increase the number of iterations. Duality gap: 1459254405.511963, tolerance: 764817502.7048419\n",
      "  model = cd_fast.enet_coordinate_descent(\n"
     ]
    },
    {
     "data": {
      "text/plain": [
       "0.8143178140165015"
      ]
     },
     "execution_count": 94,
     "metadata": {},
     "output_type": "execute_result"
    }
   ],
   "source": [
    "lasso = Lasso()\n",
    "\n",
    "cross_val_score(lasso,X_train, y_train).mean()"
   ]
  },
  {
   "cell_type": "code",
   "execution_count": 95,
   "metadata": {},
   "outputs": [],
   "source": [
    "#from kobe-starter\n",
    "alphas = np.linspace(0.05, 100000, 1000)"
   ]
  },
  {
   "cell_type": "code",
   "execution_count": 96,
   "metadata": {},
   "outputs": [
    {
     "name": "stderr",
     "output_type": "stream",
     "text": [
      "/Users/jenniferwilliamson/opt/anaconda3/lib/python3.8/site-packages/sklearn/linear_model/_coordinate_descent.py:525: ConvergenceWarning: Objective did not converge. You might want to increase the number of iterations. Duality gap: 76073083974.67358, tolerance: 708342286.5863948\n",
      "  model = cd_fast.enet_coordinate_descent_gram(\n",
      "/Users/jenniferwilliamson/opt/anaconda3/lib/python3.8/site-packages/sklearn/linear_model/_coordinate_descent.py:525: ConvergenceWarning: Objective did not converge. You might want to increase the number of iterations. Duality gap: 159970020203.1549, tolerance: 780269701.9526318\n",
      "  model = cd_fast.enet_coordinate_descent_gram(\n",
      "/Users/jenniferwilliamson/opt/anaconda3/lib/python3.8/site-packages/sklearn/linear_model/_coordinate_descent.py:525: ConvergenceWarning: Objective did not converge. You might want to increase the number of iterations. Duality gap: 179178929186.7151, tolerance: 764155760.2898041\n",
      "  model = cd_fast.enet_coordinate_descent_gram(\n",
      "/Users/jenniferwilliamson/opt/anaconda3/lib/python3.8/site-packages/sklearn/linear_model/_coordinate_descent.py:525: ConvergenceWarning: Objective did not converge. You might want to increase the number of iterations. Duality gap: 102736561090.56445, tolerance: 733533349.8796135\n",
      "  model = cd_fast.enet_coordinate_descent_gram(\n",
      "/Users/jenniferwilliamson/opt/anaconda3/lib/python3.8/site-packages/sklearn/linear_model/_coordinate_descent.py:525: ConvergenceWarning: Objective did not converge. You might want to increase the number of iterations. Duality gap: 263097488314.47205, tolerance: 764817502.7048419\n",
      "  model = cd_fast.enet_coordinate_descent_gram(\n"
     ]
    },
    {
     "data": {
      "text/plain": [
       "(0.8470174652424732, 0.890223266842744)"
      ]
     },
     "execution_count": 96,
     "metadata": {},
     "output_type": "execute_result"
    }
   ],
   "source": [
    "lcv = LassoCV(alphas = alphas)\n",
    "lcv.fit(X_train, y_train)\n",
    "lcv.score(X_train, y_train), lcv.score(X_test, y_test)"
   ]
  },
  {
   "cell_type": "code",
   "execution_count": 97,
   "metadata": {},
   "outputs": [
    {
     "data": {
      "text/plain": [
       "(100000.0, 0.05)"
      ]
     },
     "execution_count": 97,
     "metadata": {},
     "output_type": "execute_result"
    }
   ],
   "source": [
    "max(lcv.alphas_), min(lcv.alphas_)"
   ]
  },
  {
   "cell_type": "code",
   "execution_count": 98,
   "metadata": {},
   "outputs": [
    {
     "data": {
      "text/plain": [
       "1000"
      ]
     },
     "execution_count": 98,
     "metadata": {},
     "output_type": "execute_result"
    }
   ],
   "source": [
    "len(lcv.alphas_)"
   ]
  },
  {
   "cell_type": "code",
   "execution_count": 99,
   "metadata": {},
   "outputs": [
    {
     "data": {
      "text/plain": [
       "300.3501501501501"
      ]
     },
     "execution_count": 99,
     "metadata": {},
     "output_type": "execute_result"
    }
   ],
   "source": [
    "lcv.alpha_"
   ]
  },
  {
   "cell_type": "code",
   "execution_count": 100,
   "metadata": {},
   "outputs": [
    {
     "data": {
      "text/plain": [
       "42"
      ]
     },
     "execution_count": 100,
     "metadata": {},
     "output_type": "execute_result"
    }
   ],
   "source": [
    "sum(lcv.coef_ != 0)"
   ]
  },
  {
   "cell_type": "code",
   "execution_count": 101,
   "metadata": {},
   "outputs": [],
   "source": [
    "# under45!!!!!"
   ]
  },
  {
   "cell_type": "markdown",
   "metadata": {},
   "source": [
    "# ridge"
   ]
  },
  {
   "cell_type": "code",
   "execution_count": 102,
   "metadata": {},
   "outputs": [
    {
     "data": {
      "text/plain": [
       "0.8145197798083441"
      ]
     },
     "execution_count": 102,
     "metadata": {},
     "output_type": "execute_result"
    }
   ],
   "source": [
    "ridge = Ridge()\n",
    "\n",
    "cross_val_score(ridge, X_train, y_train).mean()"
   ]
  },
  {
   "cell_type": "code",
   "execution_count": 103,
   "metadata": {},
   "outputs": [],
   "source": [
    "alphas = np.linspace(0.01, 10000, 10000)"
   ]
  },
  {
   "cell_type": "code",
   "execution_count": 104,
   "metadata": {},
   "outputs": [
    {
     "data": {
      "text/plain": [
       "(0.8432345317556331, 0.8880020797822084)"
      ]
     },
     "execution_count": 104,
     "metadata": {},
     "output_type": "execute_result"
    }
   ],
   "source": [
    "rcv = RidgeCV(alphas = alphas)\n",
    "rcv.fit(X_train, y_train)\n",
    "rcv.score(X_train, y_train), rcv.score(X_test, y_test)"
   ]
  },
  {
   "cell_type": "code",
   "execution_count": 105,
   "metadata": {},
   "outputs": [
    {
     "data": {
      "text/plain": [
       "374.0470297029703"
      ]
     },
     "execution_count": 105,
     "metadata": {},
     "output_type": "execute_result"
    }
   ],
   "source": [
    "rcv.alpha_"
   ]
  },
  {
   "cell_type": "code",
   "execution_count": 106,
   "metadata": {},
   "outputs": [
    {
     "data": {
      "text/plain": [
       "array([ 2715.86655576,  3722.36787733,  2328.76037913,  2480.10179117,\n",
       "        5609.33760151,  3765.88129173,  7669.28247861,  4721.98627994,\n",
       "        1104.04342891,   900.23288656,  2805.36082882,  3677.71762301,\n",
       "        1477.44947264,  3798.03132725,  3231.33765446,  3708.20967124,\n",
       "          13.97451626, 10393.37150787,  5918.13107522,  3601.456754  ,\n",
       "        -848.83292687,  4837.79991625,  2637.78388758,  2772.87553686,\n",
       "        -224.29486194,  7443.39285029,  3625.77045378,   880.65662064,\n",
       "         757.91066775,  -102.18406115,  1352.88971263,  1651.52409342,\n",
       "        -411.92953179, -2257.50298986,   -53.32890291,  3212.75776204,\n",
       "        7439.58626142,  4741.91741655,  5038.60332216,  -134.87620203,\n",
       "       -2171.40689587,  2633.19301862, -1334.51456906,   -11.91507664,\n",
       "        1276.17883496,   925.61874343,  1591.0867719 ,  -607.29946858,\n",
       "         833.1682429 , -1345.69969975,  1002.06643163,    48.32843254,\n",
       "        1243.76131526,  2023.1389867 ,   943.56093636])"
      ]
     },
     "execution_count": 106,
     "metadata": {},
     "output_type": "execute_result"
    }
   ],
   "source": [
    "rcv.coef_"
   ]
  },
  {
   "cell_type": "markdown",
   "metadata": {},
   "source": [
    "# redo lassocv so that it covers entire set of training data"
   ]
  },
  {
   "cell_type": "code",
   "execution_count": 107,
   "metadata": {},
   "outputs": [
    {
     "name": "stderr",
     "output_type": "stream",
     "text": [
      "/Users/jenniferwilliamson/opt/anaconda3/lib/python3.8/site-packages/sklearn/linear_model/_coordinate_descent.py:525: ConvergenceWarning: Objective did not converge. You might want to increase the number of iterations. Duality gap: 19318949335.60791, tolerance: 1019517057.2686168\n",
      "  model = cd_fast.enet_coordinate_descent_gram(\n",
      "/Users/jenniferwilliamson/opt/anaconda3/lib/python3.8/site-packages/sklearn/linear_model/_coordinate_descent.py:525: ConvergenceWarning: Objective did not converge. You might want to increase the number of iterations. Duality gap: 6495317675.725342, tolerance: 1025190752.5053548\n",
      "  model = cd_fast.enet_coordinate_descent_gram(\n",
      "/Users/jenniferwilliamson/opt/anaconda3/lib/python3.8/site-packages/sklearn/linear_model/_coordinate_descent.py:525: ConvergenceWarning: Objective did not converge. You might want to increase the number of iterations. Duality gap: 164619842910.46826, tolerance: 1004035910.625803\n",
      "  model = cd_fast.enet_coordinate_descent_gram(\n",
      "/Users/jenniferwilliamson/opt/anaconda3/lib/python3.8/site-packages/sklearn/linear_model/_coordinate_descent.py:525: ConvergenceWarning: Objective did not converge. You might want to increase the number of iterations. Duality gap: 188110495956.85718, tolerance: 1035074748.7331688\n",
      "  model = cd_fast.enet_coordinate_descent_gram(\n",
      "/Users/jenniferwilliamson/opt/anaconda3/lib/python3.8/site-packages/sklearn/linear_model/_coordinate_descent.py:525: ConvergenceWarning: Objective did not converge. You might want to increase the number of iterations. Duality gap: 4733036211.21582, tolerance: 985272280.8718688\n",
      "  model = cd_fast.enet_coordinate_descent_gram(\n"
     ]
    },
    {
     "data": {
      "text/plain": [
       "0.8607365539659744"
      ]
     },
     "execution_count": 107,
     "metadata": {},
     "output_type": "execute_result"
    }
   ],
   "source": [
    "# first - recalculate lcv for all of training data\n",
    "ss2 = StandardScaler()\n",
    "ss2.fit(X)\n",
    "\n",
    "X2 = ss2.transform(X)\n",
    "\n",
    "alphas = np.linspace(0.05, 100000, 1000)\n",
    "\n",
    "lcv2 = LassoCV(alphas = alphas)\n",
    "lcv2.fit(X2, y)\n",
    "lcv2.score(X2, y)"
   ]
  },
  {
   "cell_type": "code",
   "execution_count": 108,
   "metadata": {},
   "outputs": [
    {
     "data": {
      "text/plain": [
       "200.2501001001001"
      ]
     },
     "execution_count": 108,
     "metadata": {},
     "output_type": "execute_result"
    }
   ],
   "source": [
    "lcv2.alpha_"
   ]
  },
  {
   "cell_type": "code",
   "execution_count": 109,
   "metadata": {},
   "outputs": [
    {
     "data": {
      "text/plain": [
       "48"
      ]
     },
     "execution_count": 109,
     "metadata": {},
     "output_type": "execute_result"
    }
   ],
   "source": [
    "sum(lcv2.coef_ != 0)"
   ]
  },
  {
   "cell_type": "code",
   "execution_count": 110,
   "metadata": {},
   "outputs": [],
   "source": [
    "# almost 45 (sqrt(2026)) - so stick with this"
   ]
  },
  {
   "cell_type": "code",
   "execution_count": 111,
   "metadata": {},
   "outputs": [
    {
     "data": {
      "text/html": [
       "<div>\n",
       "<style scoped>\n",
       "    .dataframe tbody tr th:only-of-type {\n",
       "        vertical-align: middle;\n",
       "    }\n",
       "\n",
       "    .dataframe tbody tr th {\n",
       "        vertical-align: top;\n",
       "    }\n",
       "\n",
       "    .dataframe thead th {\n",
       "        text-align: right;\n",
       "    }\n",
       "</style>\n",
       "<table border=\"1\" class=\"dataframe\">\n",
       "  <thead>\n",
       "    <tr style=\"text-align: right;\">\n",
       "      <th></th>\n",
       "      <th>coef val</th>\n",
       "    </tr>\n",
       "    <tr>\n",
       "      <th>var</th>\n",
       "      <th></th>\n",
       "    </tr>\n",
       "  </thead>\n",
       "  <tbody>\n",
       "    <tr>\n",
       "      <th>Gr Liv Area</th>\n",
       "      <td>16669.577116</td>\n",
       "    </tr>\n",
       "    <tr>\n",
       "      <th>Overall Qual</th>\n",
       "      <td>15756.974597</td>\n",
       "    </tr>\n",
       "    <tr>\n",
       "      <th>Neighborhood_NridgHt</th>\n",
       "      <td>8515.494157</td>\n",
       "    </tr>\n",
       "    <tr>\n",
       "      <th>Kitchen Qual</th>\n",
       "      <td>7669.010817</td>\n",
       "    </tr>\n",
       "    <tr>\n",
       "      <th>Exter Qual</th>\n",
       "      <td>6248.691021</td>\n",
       "    </tr>\n",
       "  </tbody>\n",
       "</table>\n",
       "</div>"
      ],
      "text/plain": [
       "                          coef val\n",
       "var                               \n",
       "Gr Liv Area           16669.577116\n",
       "Overall Qual          15756.974597\n",
       "Neighborhood_NridgHt   8515.494157\n",
       "Kitchen Qual           7669.010817\n",
       "Exter Qual             6248.691021"
      ]
     },
     "execution_count": 111,
     "metadata": {},
     "output_type": "execute_result"
    }
   ],
   "source": [
    "#fitted attribute\n",
    "pd.DataFrame({ \n",
    "    'var': X.columns,\n",
    "    'coef val': lcv2.coef_\n",
    "}).set_index('var').sort_values('coef val', ascending=False).head()"
   ]
  },
  {
   "cell_type": "markdown",
   "metadata": {},
   "source": [
    "# now update test data to lasso"
   ]
  },
  {
   "cell_type": "code",
   "execution_count": 112,
   "metadata": {},
   "outputs": [],
   "source": [
    "Xtestdata = pd.concat((testdata[cont], testdata[dis], testdata_ord[ord], testdata_nom_updated2), axis = 1)"
   ]
  },
  {
   "cell_type": "code",
   "execution_count": 113,
   "metadata": {},
   "outputs": [],
   "source": [
    "Xtestdata.fillna(0, inplace = True)"
   ]
  },
  {
   "cell_type": "code",
   "execution_count": 114,
   "metadata": {},
   "outputs": [],
   "source": [
    "Xtestdata2 = ss2.transform(Xtestdata)"
   ]
  },
  {
   "cell_type": "code",
   "execution_count": 115,
   "metadata": {},
   "outputs": [],
   "source": [
    "y_pred = lcv2.predict(Xtestdata2)"
   ]
  },
  {
   "cell_type": "code",
   "execution_count": 116,
   "metadata": {},
   "outputs": [
    {
     "data": {
      "text/html": [
       "<div>\n",
       "<style scoped>\n",
       "    .dataframe tbody tr th:only-of-type {\n",
       "        vertical-align: middle;\n",
       "    }\n",
       "\n",
       "    .dataframe tbody tr th {\n",
       "        vertical-align: top;\n",
       "    }\n",
       "\n",
       "    .dataframe thead th {\n",
       "        text-align: right;\n",
       "    }\n",
       "</style>\n",
       "<table border=\"1\" class=\"dataframe\">\n",
       "  <thead>\n",
       "    <tr style=\"text-align: right;\">\n",
       "      <th></th>\n",
       "      <th>SalePrice</th>\n",
       "    </tr>\n",
       "  </thead>\n",
       "  <tbody>\n",
       "    <tr>\n",
       "      <th>0</th>\n",
       "      <td>118093.288489</td>\n",
       "    </tr>\n",
       "    <tr>\n",
       "      <th>1</th>\n",
       "      <td>167167.432860</td>\n",
       "    </tr>\n",
       "    <tr>\n",
       "      <th>2</th>\n",
       "      <td>223760.862469</td>\n",
       "    </tr>\n",
       "    <tr>\n",
       "      <th>3</th>\n",
       "      <td>103956.286616</td>\n",
       "    </tr>\n",
       "    <tr>\n",
       "      <th>4</th>\n",
       "      <td>175559.192418</td>\n",
       "    </tr>\n",
       "  </tbody>\n",
       "</table>\n",
       "</div>"
      ],
      "text/plain": [
       "       SalePrice\n",
       "0  118093.288489\n",
       "1  167167.432860\n",
       "2  223760.862469\n",
       "3  103956.286616\n",
       "4  175559.192418"
      ]
     },
     "execution_count": 116,
     "metadata": {},
     "output_type": "execute_result"
    }
   ],
   "source": [
    "y_pred_df = pd.DataFrame(y_pred)\n",
    "y_pred_df = y_pred_df.rename(columns={0:'SalePrice'})\n",
    "y_pred_df.head()"
   ]
  },
  {
   "cell_type": "code",
   "execution_count": 117,
   "metadata": {},
   "outputs": [
    {
     "name": "stdout",
     "output_type": "stream",
     "text": [
      "<class 'pandas.core.frame.DataFrame'>\n",
      "RangeIndex: 878 entries, 0 to 877\n",
      "Data columns (total 2 columns):\n",
      " #   Column     Non-Null Count  Dtype  \n",
      "---  ------     --------------  -----  \n",
      " 0   Id         878 non-null    int64  \n",
      " 1   SalePrice  878 non-null    float64\n",
      "dtypes: float64(1), int64(1)\n",
      "memory usage: 13.8 KB\n"
     ]
    }
   ],
   "source": [
    "final_preds = pd.concat([testdata['Id'],y_pred_df], axis=1 )\n",
    "final_preds.info()"
   ]
  },
  {
   "cell_type": "code",
   "execution_count": 118,
   "metadata": {},
   "outputs": [],
   "source": [
    "#export predictions\n",
    "filepath = '../datasets/submissions/prediction4.csv'\n",
    "\n",
    "final_preds.to_csv(filepath, index=False)"
   ]
  },
  {
   "cell_type": "markdown",
   "metadata": {},
   "source": [
    "# do one last linear regression because it's easier to interpret.\n"
   ]
  },
  {
   "cell_type": "code",
   "execution_count": 119,
   "metadata": {},
   "outputs": [
    {
     "data": {
      "text/plain": [
       "0.8624955201529421"
      ]
     },
     "execution_count": 119,
     "metadata": {},
     "output_type": "execute_result"
    }
   ],
   "source": [
    "# first - recalculate lcv for all of training data\n",
    "X2\n",
    "\n",
    "alphas = np.linspace(0.05, 100000, 1000)\n",
    "\n",
    "lr2 = LinearRegression()\n",
    "lr2.fit(X2, y)\n",
    "lr2.score(X2, y)"
   ]
  },
  {
   "cell_type": "code",
   "execution_count": 120,
   "metadata": {},
   "outputs": [],
   "source": [
    "#fitted attribute\n",
    "fitted_attrs = pd.DataFrame({ \n",
    "    'var': X.columns,\n",
    "    'coef val': lr2.coef_\n",
    "}).set_index('var').sort_values('coef val', ascending=False)"
   ]
  },
  {
   "cell_type": "code",
   "execution_count": 121,
   "metadata": {},
   "outputs": [
    {
     "data": {
      "text/html": [
       "<div>\n",
       "<style scoped>\n",
       "    .dataframe tbody tr th:only-of-type {\n",
       "        vertical-align: middle;\n",
       "    }\n",
       "\n",
       "    .dataframe tbody tr th {\n",
       "        vertical-align: top;\n",
       "    }\n",
       "\n",
       "    .dataframe thead th {\n",
       "        text-align: right;\n",
       "    }\n",
       "</style>\n",
       "<table border=\"1\" class=\"dataframe\">\n",
       "  <thead>\n",
       "    <tr style=\"text-align: right;\">\n",
       "      <th></th>\n",
       "      <th>coef val</th>\n",
       "    </tr>\n",
       "    <tr>\n",
       "      <th>var</th>\n",
       "      <th></th>\n",
       "    </tr>\n",
       "  </thead>\n",
       "  <tbody>\n",
       "    <tr>\n",
       "      <th>Overall Qual</th>\n",
       "      <td>15262.720302</td>\n",
       "    </tr>\n",
       "    <tr>\n",
       "      <th>1st Flr SF</th>\n",
       "      <td>11327.145490</td>\n",
       "    </tr>\n",
       "    <tr>\n",
       "      <th>Mas Vnr Type_None</th>\n",
       "      <td>11215.680847</td>\n",
       "    </tr>\n",
       "    <tr>\n",
       "      <th>Garage Type_none</th>\n",
       "      <td>10896.638472</td>\n",
       "    </tr>\n",
       "    <tr>\n",
       "      <th>2nd Flr SF</th>\n",
       "      <td>10552.479318</td>\n",
       "    </tr>\n",
       "    <tr>\n",
       "      <th>Neighborhood_NridgHt</th>\n",
       "      <td>8859.031625</td>\n",
       "    </tr>\n",
       "    <tr>\n",
       "      <th>Kitchen Qual</th>\n",
       "      <td>7646.243816</td>\n",
       "    </tr>\n",
       "    <tr>\n",
       "      <th>Mas Vnr Type_BrkFace</th>\n",
       "      <td>7484.521509</td>\n",
       "    </tr>\n",
       "    <tr>\n",
       "      <th>Garage Type_Attchd</th>\n",
       "      <td>6669.769666</td>\n",
       "    </tr>\n",
       "    <tr>\n",
       "      <th>Neighborhood_StoneBr</th>\n",
       "      <td>6089.427070</td>\n",
       "    </tr>\n",
       "    <tr>\n",
       "      <th>Mas Vnr Type_Stone</th>\n",
       "      <td>5889.257642</td>\n",
       "    </tr>\n",
       "    <tr>\n",
       "      <th>Exterior 2nd_VinylSd</th>\n",
       "      <td>5857.327836</td>\n",
       "    </tr>\n",
       "    <tr>\n",
       "      <th>Exter Qual</th>\n",
       "      <td>5761.887597</td>\n",
       "    </tr>\n",
       "    <tr>\n",
       "      <th>Roof Style_Hip</th>\n",
       "      <td>5653.909996</td>\n",
       "    </tr>\n",
       "    <tr>\n",
       "      <th>Garage Type_Detchd</th>\n",
       "      <td>5627.305188</td>\n",
       "    </tr>\n",
       "    <tr>\n",
       "      <th>Bsmt Exposure</th>\n",
       "      <td>5444.516381</td>\n",
       "    </tr>\n",
       "    <tr>\n",
       "      <th>Garage Qual</th>\n",
       "      <td>5036.933565</td>\n",
       "    </tr>\n",
       "    <tr>\n",
       "      <th>Neighborhood_NoRidge</th>\n",
       "      <td>4955.727602</td>\n",
       "    </tr>\n",
       "    <tr>\n",
       "      <th>Lot Area</th>\n",
       "      <td>4932.296186</td>\n",
       "    </tr>\n",
       "    <tr>\n",
       "      <th>Mas Vnr Area</th>\n",
       "      <td>4924.744707</td>\n",
       "    </tr>\n",
       "    <tr>\n",
       "      <th>Garage Cars</th>\n",
       "      <td>4841.286907</td>\n",
       "    </tr>\n",
       "    <tr>\n",
       "      <th>Gr Liv Area</th>\n",
       "      <td>4751.936837</td>\n",
       "    </tr>\n",
       "    <tr>\n",
       "      <th>Land Contour_HLS</th>\n",
       "      <td>3679.937972</td>\n",
       "    </tr>\n",
       "    <tr>\n",
       "      <th>Bsmt Qual</th>\n",
       "      <td>3632.052243</td>\n",
       "    </tr>\n",
       "    <tr>\n",
       "      <th>Garage Area</th>\n",
       "      <td>3625.823928</td>\n",
       "    </tr>\n",
       "    <tr>\n",
       "      <th>Garage Type_BuiltIn</th>\n",
       "      <td>3594.230367</td>\n",
       "    </tr>\n",
       "    <tr>\n",
       "      <th>Bsmt Full Bath</th>\n",
       "      <td>3180.496878</td>\n",
       "    </tr>\n",
       "    <tr>\n",
       "      <th>MS SubClass_60</th>\n",
       "      <td>3126.879931</td>\n",
       "    </tr>\n",
       "    <tr>\n",
       "      <th>Fireplace Qu</th>\n",
       "      <td>2768.060981</td>\n",
       "    </tr>\n",
       "    <tr>\n",
       "      <th>BsmtFin SF 1</th>\n",
       "      <td>2476.828983</td>\n",
       "    </tr>\n",
       "    <tr>\n",
       "      <th>Heating QC</th>\n",
       "      <td>2406.146405</td>\n",
       "    </tr>\n",
       "    <tr>\n",
       "      <th>Fireplaces</th>\n",
       "      <td>2401.708374</td>\n",
       "    </tr>\n",
       "    <tr>\n",
       "      <th>TotRms AbvGrd</th>\n",
       "      <td>2400.826519</td>\n",
       "    </tr>\n",
       "    <tr>\n",
       "      <th>BsmtFin Type 1</th>\n",
       "      <td>2315.302009</td>\n",
       "    </tr>\n",
       "    <tr>\n",
       "      <th>Roof Style_Gable</th>\n",
       "      <td>2076.515743</td>\n",
       "    </tr>\n",
       "    <tr>\n",
       "      <th>Full Bath</th>\n",
       "      <td>1646.446852</td>\n",
       "    </tr>\n",
       "    <tr>\n",
       "      <th>Half Bath</th>\n",
       "      <td>1475.025414</td>\n",
       "    </tr>\n",
       "    <tr>\n",
       "      <th>Paved Drive</th>\n",
       "      <td>1426.343187</td>\n",
       "    </tr>\n",
       "    <tr>\n",
       "      <th>Garage Finish</th>\n",
       "      <td>1206.915065</td>\n",
       "    </tr>\n",
       "    <tr>\n",
       "      <th>Central Air_Y</th>\n",
       "      <td>1167.219349</td>\n",
       "    </tr>\n",
       "    <tr>\n",
       "      <th>Wood Deck SF</th>\n",
       "      <td>979.024776</td>\n",
       "    </tr>\n",
       "    <tr>\n",
       "      <th>Garage Cond</th>\n",
       "      <td>956.137976</td>\n",
       "    </tr>\n",
       "    <tr>\n",
       "      <th>Total Bsmt SF</th>\n",
       "      <td>646.119555</td>\n",
       "    </tr>\n",
       "    <tr>\n",
       "      <th>Lot Shape</th>\n",
       "      <td>552.308985</td>\n",
       "    </tr>\n",
       "    <tr>\n",
       "      <th>MS SubClass_30</th>\n",
       "      <td>124.859573</td>\n",
       "    </tr>\n",
       "    <tr>\n",
       "      <th>Open Porch SF</th>\n",
       "      <td>-4.815323</td>\n",
       "    </tr>\n",
       "    <tr>\n",
       "      <th>Neighborhood_OldTown</th>\n",
       "      <td>-34.233555</td>\n",
       "    </tr>\n",
       "    <tr>\n",
       "      <th>Electrical</th>\n",
       "      <td>-304.599983</td>\n",
       "    </tr>\n",
       "    <tr>\n",
       "      <th>Foundation_PConc</th>\n",
       "      <td>-846.471169</td>\n",
       "    </tr>\n",
       "    <tr>\n",
       "      <th>Foundation_CBlock</th>\n",
       "      <td>-1354.994888</td>\n",
       "    </tr>\n",
       "    <tr>\n",
       "      <th>Bsmt Cond</th>\n",
       "      <td>-1714.950218</td>\n",
       "    </tr>\n",
       "    <tr>\n",
       "      <th>MS Zoning_RL</th>\n",
       "      <td>-2629.963913</td>\n",
       "    </tr>\n",
       "    <tr>\n",
       "      <th>MS Zoning_RM</th>\n",
       "      <td>-4761.837058</td>\n",
       "    </tr>\n",
       "    <tr>\n",
       "      <th>Exterior 1st_VinylSd</th>\n",
       "      <td>-4954.945687</td>\n",
       "    </tr>\n",
       "    <tr>\n",
       "      <th>House Style_2Story</th>\n",
       "      <td>-5421.852369</td>\n",
       "    </tr>\n",
       "  </tbody>\n",
       "</table>\n",
       "</div>"
      ],
      "text/plain": [
       "                          coef val\n",
       "var                               \n",
       "Overall Qual          15262.720302\n",
       "1st Flr SF            11327.145490\n",
       "Mas Vnr Type_None     11215.680847\n",
       "Garage Type_none      10896.638472\n",
       "2nd Flr SF            10552.479318\n",
       "Neighborhood_NridgHt   8859.031625\n",
       "Kitchen Qual           7646.243816\n",
       "Mas Vnr Type_BrkFace   7484.521509\n",
       "Garage Type_Attchd     6669.769666\n",
       "Neighborhood_StoneBr   6089.427070\n",
       "Mas Vnr Type_Stone     5889.257642\n",
       "Exterior 2nd_VinylSd   5857.327836\n",
       "Exter Qual             5761.887597\n",
       "Roof Style_Hip         5653.909996\n",
       "Garage Type_Detchd     5627.305188\n",
       "Bsmt Exposure          5444.516381\n",
       "Garage Qual            5036.933565\n",
       "Neighborhood_NoRidge   4955.727602\n",
       "Lot Area               4932.296186\n",
       "Mas Vnr Area           4924.744707\n",
       "Garage Cars            4841.286907\n",
       "Gr Liv Area            4751.936837\n",
       "Land Contour_HLS       3679.937972\n",
       "Bsmt Qual              3632.052243\n",
       "Garage Area            3625.823928\n",
       "Garage Type_BuiltIn    3594.230367\n",
       "Bsmt Full Bath         3180.496878\n",
       "MS SubClass_60         3126.879931\n",
       "Fireplace Qu           2768.060981\n",
       "BsmtFin SF 1           2476.828983\n",
       "Heating QC             2406.146405\n",
       "Fireplaces             2401.708374\n",
       "TotRms AbvGrd          2400.826519\n",
       "BsmtFin Type 1         2315.302009\n",
       "Roof Style_Gable       2076.515743\n",
       "Full Bath              1646.446852\n",
       "Half Bath              1475.025414\n",
       "Paved Drive            1426.343187\n",
       "Garage Finish          1206.915065\n",
       "Central Air_Y          1167.219349\n",
       "Wood Deck SF            979.024776\n",
       "Garage Cond             956.137976\n",
       "Total Bsmt SF           646.119555\n",
       "Lot Shape               552.308985\n",
       "MS SubClass_30          124.859573\n",
       "Open Porch SF            -4.815323\n",
       "Neighborhood_OldTown    -34.233555\n",
       "Electrical             -304.599983\n",
       "Foundation_PConc       -846.471169\n",
       "Foundation_CBlock     -1354.994888\n",
       "Bsmt Cond             -1714.950218\n",
       "MS Zoning_RL          -2629.963913\n",
       "MS Zoning_RM          -4761.837058\n",
       "Exterior 1st_VinylSd  -4954.945687\n",
       "House Style_2Story    -5421.852369"
      ]
     },
     "execution_count": 121,
     "metadata": {},
     "output_type": "execute_result"
    }
   ],
   "source": [
    "fitted_attrs"
   ]
  },
  {
   "cell_type": "code",
   "execution_count": 122,
   "metadata": {},
   "outputs": [],
   "source": [
    "#export predictions\n",
    "filepath = '../datasets/interim_files/manual_lr_fitted_st7.csv'\n",
    "\n",
    "fitted_attrs.to_csv(filepath)"
   ]
  },
  {
   "cell_type": "code",
   "execution_count": 123,
   "metadata": {},
   "outputs": [
    {
     "data": {
      "text/plain": [
       "Index(['Overall Qual', '1st Flr SF', 'Mas Vnr Type_None', 'Garage Type_none',\n",
       "       '2nd Flr SF', 'Neighborhood_NridgHt', 'Kitchen Qual',\n",
       "       'Mas Vnr Type_BrkFace', 'Garage Type_Attchd', 'Neighborhood_StoneBr',\n",
       "       'Mas Vnr Type_Stone', 'Exterior 2nd_VinylSd', 'Exter Qual',\n",
       "       'Roof Style_Hip', 'Garage Type_Detchd', 'Bsmt Exposure', 'Garage Qual',\n",
       "       'Neighborhood_NoRidge', 'Lot Area', 'Mas Vnr Area', 'Garage Cars',\n",
       "       'Gr Liv Area', 'Land Contour_HLS', 'Bsmt Qual', 'Garage Area',\n",
       "       'Garage Type_BuiltIn', 'Bsmt Full Bath', 'MS SubClass_60',\n",
       "       'Fireplace Qu', 'BsmtFin SF 1', 'Heating QC', 'Fireplaces',\n",
       "       'TotRms AbvGrd', 'BsmtFin Type 1', 'Roof Style_Gable', 'Full Bath',\n",
       "       'Half Bath', 'Paved Drive', 'Garage Finish', 'Central Air_Y',\n",
       "       'Wood Deck SF', 'Garage Cond', 'Total Bsmt SF', 'Lot Shape',\n",
       "       'MS SubClass_30', 'Open Porch SF', 'Neighborhood_OldTown', 'Electrical',\n",
       "       'Foundation_PConc', 'Foundation_CBlock', 'Bsmt Cond', 'MS Zoning_RL',\n",
       "       'MS Zoning_RM', 'Exterior 1st_VinylSd', 'House Style_2Story'],\n",
       "      dtype='object', name='var')"
      ]
     },
     "execution_count": 123,
     "metadata": {},
     "output_type": "execute_result"
    }
   ],
   "source": [
    "fitted_attrs.index"
   ]
  },
  {
   "cell_type": "code",
   "execution_count": 124,
   "metadata": {},
   "outputs": [
    {
     "data": {
      "image/png": "[encoded data removed]",
      "text/plain": [
       "<Figure size 360x864 with 2 Axes>"
      ]
     },
     "metadata": {
      "needs_background": "light"
     },
     "output_type": "display_data"
    }
   ],
   "source": [
    "plt.figure(figsize = (5,12))\n",
    "sns.heatmap(fitted_attrs,\n",
    "            cmap='coolwarm');"
   ]
  },
  {
   "cell_type": "code",
   "execution_count": 125,
   "metadata": {},
   "outputs": [],
   "source": [
    "#on test data now - still same scaler"
   ]
  },
  {
   "cell_type": "code",
   "execution_count": 126,
   "metadata": {},
   "outputs": [
    {
     "name": "stdout",
     "output_type": "stream",
     "text": [
      "<class 'pandas.core.frame.DataFrame'>\n",
      "RangeIndex: 878 entries, 0 to 877\n",
      "Data columns (total 2 columns):\n",
      " #   Column     Non-Null Count  Dtype  \n",
      "---  ------     --------------  -----  \n",
      " 0   Id         878 non-null    int64  \n",
      " 1   SalePrice  878 non-null    float64\n",
      "dtypes: float64(1), int64(1)\n",
      "memory usage: 13.8 KB\n"
     ]
    }
   ],
   "source": [
    "final_preds2 = pd.concat([testdata['Id'],y_pred_df2], axis=1 )\n",
    "final_preds2.info()"
   ]
  },
  {
   "cell_type": "code",
   "execution_count": 127,
   "metadata": {},
   "outputs": [],
   "source": [
    "#export predictions\n",
    "filepath = '../datasets/submissions/prediction5.csv'\n",
    "\n",
    "final_preds.to_csv(filepath, index=False)"
   ]
  },
  {
   "cell_type": "markdown",
   "metadata": {},
   "source": [
    "# Notebook Intro:\n",
    "\n",
    "In this notebook, I use my cleaned training data, then look at all the continuous and dummy features that had r2 values over .2 (from notebooks 3a and 3b), import the updated ordinal features and select features that had r2 values over .2 (from notebook 4), and select the discrete features that had r2 values over .2 (from notebook 5).\n",
    "\n",
    "I address dummies in the training and test data similar to notebook 6.  \n",
    "\n",
    "I perform a train/test split on the training data, fit a scaler on the train split and then transform both the training and test splits.\n",
    "\n",
    "I then fit a linear regression, lasso, and ridge to the training split.  And compare the training and test scores for each one, as well as the number of features used. The lasso performs similarly to the other two, but reduces the number of features compared to the other models, so I select this one to continue with.  \n",
    "\n",
    "I then perform the scaling and fitting of the lasso model to the entire set of training data.  I then use this updated lasso model on the test data to create **prediction 4**.\n",
    "\n",
    "Finally, since the linear regression is easier to interpret and doesn't have many more features than the lasso model, I also perform the scaling and fitting of the linear regression model to the entire set of training data, and use this updated linear regression model on the test data to create **prediction 5**.\n",
    "\n",
    "I export the linear regression model of the training data for use in other notebooks."
   ]
  }
 ],
 "metadata": {
  "kernelspec": {
   "display_name": "Python 3",
   "language": "python",
   "name": "python3"
  },
  "language_info": {
   "codemirror_mode": {
    "name": "ipython",
    "version": 3
   },
   "file_extension": ".py",
   "mimetype": "text/x-python",
   "name": "python",
   "nbconvert_exporter": "python",
   "pygments_lexer": "ipython3",
   "version": "3.8.3"
  }
 },
 "nbformat": 4,
 "nbformat_minor": 4
}
